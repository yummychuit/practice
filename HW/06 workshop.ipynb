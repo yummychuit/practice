{
 "cells": [
  {
   "cell_type": "markdown",
   "metadata": {},
   "source": [
    "1. 함수의 인자 기본 값을 설정을 활용하여 곱셈의 결과를 반환하는 my_mul을 만들어 주세요.\n",
    "\n",
    "\n",
    "예시 호출1) my_mul(6)\n",
    "\n",
    "예시 결과1) 6\n",
    "\n",
    "예시 호출2) my_mul(3, 5)\n",
    "\n",
    "예시 결과2) 15\n",
    "\n"
   ]
  },
  {
   "cell_type": "code",
   "execution_count": null,
   "metadata": {},
   "outputs": [],
   "source": [
    "def my_mul(x, y=1):\n",
    "    return x * y\n",
    "\n",
    "print(my_mul(6))\n",
    "print(my_mul(3, 5)) "
   ]
  }
 ],
 "metadata": {
  "kernelspec": {
   "display_name": "Python 3",
   "language": "python",
   "name": "python3"
  },
  "language_info": {
   "codemirror_mode": {
    "name": "ipython",
    "version": 3
   },
   "file_extension": ".py",
   "mimetype": "text/x-python",
   "name": "python",
   "nbconvert_exporter": "python",
   "pygments_lexer": "ipython3",
   "version": "3.6.7"
  }
 },
 "nbformat": 4,
 "nbformat_minor": 2
}
