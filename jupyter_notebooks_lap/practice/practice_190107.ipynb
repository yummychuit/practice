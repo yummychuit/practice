{
 "cells": [
  {
   "cell_type": "markdown",
   "metadata": {},
   "source": [
    "# 재귀함수 (recursive function)"
   ]
  },
  {
   "cell_type": "markdown",
   "metadata": {},
   "source": [
    "### 팩토리얼 계산"
   ]
  },
  {
   "cell_type": "code",
   "execution_count": null,
   "metadata": {},
   "outputs": [],
   "source": [
    "# 반복문을 사용하여 fact(n)을 작성해봅시다\n",
    "\n",
    "def fact(n):\n",
    "    f = 1\n",
    "    for i in range(n, 0, -1):\n",
    "        f = f * i \n",
    "    return f\n",
    "fact(3)"
   ]
  },
  {
   "cell_type": "code",
   "execution_count": null,
   "metadata": {},
   "outputs": [],
   "source": [
    "#다시!!\n",
    "\n",
    "def fuc(n):\n",
    "    fac = 1\n",
    "    for n in range(1, n + 1):\n",
    "        fac = fac * n\n",
    "    return fac\n",
    "fuc(5)"
   ]
  },
  {
   "cell_type": "code",
   "execution_count": null,
   "metadata": {},
   "outputs": [],
   "source": [
    "# 재귀함수를 사용하여 factorial(n)을 작성해봅시다\n",
    "\n",
    "def factorial(x):\n",
    "    if x == 1:\n",
    "        return 1\n",
    "    else:    \n",
    "        return factorial(x-1) * x\n",
    "    \n",
    "factorial(4)"
   ]
  },
  {
   "cell_type": "markdown",
   "metadata": {},
   "source": [
    "### 피보나치 수열"
   ]
  },
  {
   "cell_type": "code",
   "execution_count": null,
   "metadata": {},
   "outputs": [],
   "source": [
    "#반복문을 이용하여 fib_loop(n)을 작성해봅시다\n",
    "\n",
    "def fib_loop(n):\n",
    "    result = [1,1]\n",
    "    for i in range(1, n):\n",
    "        result.append(result[-1] + result[-2])\n",
    "    return result[-1]\n",
    "fib_loop(3)"
   ]
  },
  {
   "cell_type": "code",
   "execution_count": null,
   "metadata": {},
   "outputs": [],
   "source": [
    "#다시!!!\n",
    "\n",
    "def fibo(n):\n",
    "    result = [1, 1]\n",
    "    for i in range(1, n):\n",
    "        result.append(result[-1] + result[-2])\n",
    "    return result[-1]\n",
    "fibo(5)"
   ]
  },
  {
   "cell_type": "code",
   "execution_count": null,
   "metadata": {},
   "outputs": [],
   "source": [
    "#재귀함수를 이용하여 fib(n)을 작성해봅시다.\n",
    "\n",
    "def fib(n):\n",
    "    if n == (0,1):\n",
    "        return 1\n",
    "    elif n > 1:\n",
    "        return fib(n - 2) + fib(n - 1)    "
   ]
  },
  {
   "cell_type": "markdown",
   "metadata": {},
   "source": [
    "### 실습문제 - chicken coupon"
   ]
  },
  {
   "cell_type": "markdown",
   "metadata": {},
   "source": [
    "#ex) 치킨 쿠폰이 3장을 모으면 한마리를 줍니다. 한마리를 시키면 한 장을 줍니다. n장이 있을 때, 몇 마리까지 먹을 수 있을까요? <br>ex) 10 장 => 7장 + 1장 => 5 + 1 => 3 + 1 => 1 + 1"
   ]
  },
  {
   "cell_type": "code",
   "execution_count": 2,
   "metadata": {},
   "outputs": [
    {
     "data": {
      "text/plain": [
       "4"
      ]
     },
     "execution_count": 2,
     "metadata": {},
     "output_type": "execute_result"
    }
   ],
   "source": [
    "def chicken_num(coupon, free, chicken=0):\n",
    "    chicken += coupon//free\n",
    "    new_coupon = coupon//free \n",
    "    coupon %= free\n",
    "    coupon += new_coupon\n",
    "    if coupon < free:\n",
    "        return chicken\n",
    "    else:\n",
    "        return chicken_num(coupon, free, chicken)\n",
    "chicken_num(10, 3,0)"
   ]
  },
  {
   "cell_type": "code",
   "execution_count": null,
   "metadata": {},
   "outputs": [],
   "source": [
    "def free_chicken(coupon, free=3, chicken=0):\n",
    "    chicken += coupon // free\n",
    "    plus_coupon = coupon // free\n",
    "    coupon %= free\n",
    "    coupon += plus_coupon\n",
    "    if coupon >= free:\n",
    "        return free_chicken(coupon, free, chicken)\n",
    "    elif coupon < free:\n",
    "        return chicken\n",
    "\n",
    "free_chicken(10,3,0)\n",
    "    "
   ]
  },
  {
   "cell_type": "markdown",
   "metadata": {},
   "source": [
    "### 실습문제 - 개미수열 (Look & Say)"
   ]
  },
  {
   "cell_type": "markdown",
   "metadata": {},
   "source": [
    "숫자를 세어서 몇 개인지 말해요 ``` n = 0 [1]\n",
    "<br>\n",
    "n = 1 [1, 1]\n",
    "\n",
    "n = 2 [1 ,2]\n",
    "\n",
    "n = 3 [1, 1, 2, 1]\n",
    "\n",
    "n = 4 [1, 2, 2, 1, 1, 1]\n",
    "\n",
    "n = 5 [1, 1, 2, 2, 1, 3]"
   ]
  },
  {
   "cell_type": "code",
   "execution_count": 5,
   "metadata": {},
   "outputs": [
    {
     "data": {
      "text/plain": [
       "[1, 1, 2, 2, 1, 3]"
      ]
     },
     "execution_count": 5,
     "metadata": {},
     "output_type": "execute_result"
    }
   ],
   "source": [
    "#풀이\n",
    "def look_and_say(n, remain=[1], result=[]):\n",
    "    if n == 0:\n",
    "        return remain\n",
    "    \n",
    "    look = remain[0]\n",
    "    say = 0\n",
    "    \n",
    "    for index, number in enumerate(remain):\n",
    "        if number == look:\n",
    "            say += 1\n",
    "        else:\n",
    "            del(remain[0:index])\n",
    "            break \n",
    "    else: \n",
    "        remain = []\n",
    "    result = result + [ look, say ]\n",
    "\n",
    "    if not remain :\n",
    "        return look_and_say(n-1, result, [])\n",
    "    else:\n",
    "        return look_and_say(n, remain, result)\n",
    "        \n",
    "look_and_say(5)\n",
    "    "
   ]
  },
  {
   "cell_type": "code",
   "execution_count": null,
   "metadata": {},
   "outputs": [],
   "source": [
    "#써봐!!\n",
    "\n"
   ]
  },
  {
   "cell_type": "markdown",
   "metadata": {},
   "source": [
    "### 지난 달력 과제"
   ]
  },
  {
   "cell_type": "code",
   "execution_count": 3,
   "metadata": {},
   "outputs": [
    {
     "name": "stdout",
     "output_type": "stream",
     "text": [
      "1 월\n",
      "  일  |  월  |  화  |  수  |  목  |  금  |  토  | \n",
      "------------------------------------------------\n",
      "   1 |    2 |    3 |    4 |    5 |    6 |    7 | \n",
      "   8 |    9 |   10 |   11 |   12 |   13 |   14 | \n",
      "  15 |   16 |   17 |   18 |   19 |   20 |   21 | \n",
      "  22 |   23 |   24 |   25 |   26 |   27 |   28 | \n",
      "  29 |   30 |   31 | \n",
      "2 월\n",
      "  일  |  월  |  화  |  수  |  목  |  금  |  토  | \n",
      "------------------------------------------------\n",
      "     |      |      |    1 |    2 |    3 |    4 | \n",
      "   5 |    6 |    7 |    8 |    9 |   10 |   11 | \n",
      "  12 |   13 |   14 |   15 |   16 |   17 |   18 | \n",
      "  19 |   20 |   21 |   22 |   23 |   24 |   25 | \n",
      "  26 |   27 |   28 | \n",
      "3 월\n",
      "  일  |  월  |  화  |  수  |  목  |  금  |  토  | \n",
      "------------------------------------------------\n",
      "     |      |      |    1 |    2 |    3 |    4 | \n",
      "   5 |    6 |    7 |    8 |    9 |   10 |   11 | \n",
      "  12 |   13 |   14 |   15 |   16 |   17 |   18 | \n",
      "  19 |   20 |   21 |   22 |   23 |   24 |   25 | \n",
      "  26 |   27 |   28 |   29 |   30 |   31 | \n",
      "4 월\n",
      "  일  |  월  |  화  |  수  |  목  |  금  |  토  | \n",
      "------------------------------------------------\n",
      "     |      |      |      |      |      |    1 | \n",
      "   2 |    3 |    4 |    5 |    6 |    7 |    8 | \n",
      "   9 |   10 |   11 |   12 |   13 |   14 |   15 | \n",
      "  16 |   17 |   18 |   19 |   20 |   21 |   22 | \n",
      "  23 |   24 |   25 |   26 |   27 |   28 |   29 | \n",
      "  30 | \n",
      "5 월\n",
      "  일  |  월  |  화  |  수  |  목  |  금  |  토  | \n",
      "------------------------------------------------\n",
      "     |    1 |    2 |    3 |    4 |    5 |    6 | \n",
      "   7 |    8 |    9 |   10 |   11 |   12 |   13 | \n",
      "  14 |   15 |   16 |   17 |   18 |   19 |   20 | \n",
      "  21 |   22 |   23 |   24 |   25 |   26 |   27 | \n",
      "  28 |   29 |   30 |   31 | \n",
      "6 월\n",
      "  일  |  월  |  화  |  수  |  목  |  금  |  토  | \n",
      "------------------------------------------------\n",
      "     |      |      |      |    1 |    2 |    3 | \n",
      "   4 |    5 |    6 |    7 |    8 |    9 |   10 | \n",
      "  11 |   12 |   13 |   14 |   15 |   16 |   17 | \n",
      "  18 |   19 |   20 |   21 |   22 |   23 |   24 | \n",
      "  25 |   26 |   27 |   28 |   29 |   30 | \n",
      "7 월\n",
      "  일  |  월  |  화  |  수  |  목  |  금  |  토  | \n",
      "------------------------------------------------\n",
      "     |      |      |      |      |      |    1 | \n",
      "   2 |    3 |    4 |    5 |    6 |    7 |    8 | \n",
      "   9 |   10 |   11 |   12 |   13 |   14 |   15 | \n",
      "  16 |   17 |   18 |   19 |   20 |   21 |   22 | \n",
      "  23 |   24 |   25 |   26 |   27 |   28 |   29 | \n",
      "  30 |   31 | \n",
      "8 월\n",
      "  일  |  월  |  화  |  수  |  목  |  금  |  토  | \n",
      "------------------------------------------------\n",
      "     |      |    1 |    2 |    3 |    4 |    5 | \n",
      "   6 |    7 |    8 |    9 |   10 |   11 |   12 | \n",
      "  13 |   14 |   15 |   16 |   17 |   18 |   19 | \n",
      "  20 |   21 |   22 |   23 |   24 |   25 |   26 | \n",
      "  27 |   28 |   29 |   30 |   31 | \n",
      "9 월\n",
      "  일  |  월  |  화  |  수  |  목  |  금  |  토  | \n",
      "------------------------------------------------\n",
      "     |      |      |      |      |    1 |    2 | \n",
      "   3 |    4 |    5 |    6 |    7 |    8 |    9 | \n",
      "  10 |   11 |   12 |   13 |   14 |   15 |   16 | \n",
      "  17 |   18 |   19 |   20 |   21 |   22 |   23 | \n",
      "  24 |   25 |   26 |   27 |   28 |   29 |   30 | \n",
      "10 월\n",
      "  일  |  월  |  화  |  수  |  목  |  금  |  토  | \n",
      "------------------------------------------------\n",
      "   1 |    2 |    3 |    4 |    5 |    6 |    7 | \n",
      "   8 |    9 |   10 |   11 |   12 |   13 |   14 | \n",
      "  15 |   16 |   17 |   18 |   19 |   20 |   21 | \n",
      "  22 |   23 |   24 |   25 |   26 |   27 |   28 | \n",
      "  29 |   30 |   31 | \n",
      "11 월\n",
      "  일  |  월  |  화  |  수  |  목  |  금  |  토  | \n",
      "------------------------------------------------\n",
      "     |      |      |    1 |    2 |    3 |    4 | \n",
      "   5 |    6 |    7 |    8 |    9 |   10 |   11 | \n",
      "  12 |   13 |   14 |   15 |   16 |   17 |   18 | \n",
      "  19 |   20 |   21 |   22 |   23 |   24 |   25 | \n",
      "  26 |   27 |   28 |   29 |   30 | \n",
      "12 월\n",
      "  일  |  월  |  화  |  수  |  목  |  금  |  토  | \n",
      "------------------------------------------------\n",
      "     |      |      |      |      |    1 |    2 | \n",
      "   3 |    4 |    5 |    6 |    7 |    8 |    9 | \n",
      "  10 |   11 |   12 |   13 |   14 |   15 |   16 | \n",
      "  17 |   18 |   19 |   20 |   21 |   22 |   23 | \n",
      "  24 |   25 |   26 |   27 |   28 |   29 |   30 | \n",
      "  31 | \n"
     ]
    }
   ],
   "source": [
    "# 너굴너굴\n",
    "\n",
    "months_end = {\n",
    "    1: 31, 2: 28, 3: 31, 4: 30, 5: 31, 6: 30,\n",
    "    7: 31, 8: 31, 9: 30, 10: 31, 11: 30, 12: 31\n",
    "}\n",
    "\n",
    "weeks = [' 일 ', ' 월 ', ' 화 ', ' 수 ', ' 목 ', ' 금 ', ' 토 ']\n",
    "count_blank = ''\n",
    "count = 0\n",
    "\n",
    "for month, end_date in months_end.items():\n",
    "    print(month, '월')\n",
    "    print(' ', end='')\n",
    "    for yoil in weeks:\n",
    "        print(yoil, end=' | ')\n",
    "    print()\n",
    "    print('------------------------------------------------')\n",
    "    \n",
    "    print(count_blank, end='')\n",
    "    for day in range(1, end_date + 1):\n",
    "        if day < 10:\n",
    "            day = f' {day}'\n",
    "        print(f'  {day} | ', end='')\n",
    "        count += 1\n",
    "        if day == end_date:\n",
    "            print()\n",
    "            if count >= 7:\n",
    "                count = count - 7\n",
    "            count_blank = '     | ' * count\n",
    "        elif count == 7:\n",
    "            print()\n",
    "            count = 0"
   ]
  },
  {
   "cell_type": "code",
   "execution_count": null,
   "metadata": {},
   "outputs": [],
   "source": [
    "#풀이\n"
   ]
  }
 ],
 "metadata": {
  "kernelspec": {
   "display_name": "Python 3",
   "language": "python",
   "name": "python3"
  },
  "language_info": {
   "codemirror_mode": {
    "name": "ipython",
    "version": 3
   },
   "file_extension": ".py",
   "mimetype": "text/x-python",
   "name": "python",
   "nbconvert_exporter": "python",
   "pygments_lexer": "ipython3",
   "version": "3.7.1"
  }
 },
 "nbformat": 4,
 "nbformat_minor": 2
}
