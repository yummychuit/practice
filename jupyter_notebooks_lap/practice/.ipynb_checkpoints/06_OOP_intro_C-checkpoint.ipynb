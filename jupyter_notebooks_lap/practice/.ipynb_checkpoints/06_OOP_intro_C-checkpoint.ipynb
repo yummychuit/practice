{
 "cells": [
  {
   "cell_type": "markdown",
   "metadata": {},
   "source": [
    "# 시작하기전에\n",
    "\n",
    "<wikipedia - 객체지향 프로그래밍> \n",
    ">\n",
    "> 객체 지향 프로그래밍(영어: Object-Oriented Programming, OOP)은 컴퓨터 프로그래밍의 패러다임의 하나이다. 객체 지향 프로그래밍은 컴퓨터 프로그램을 명령어의 목록으로 보는 시각에서 벗어나 여러 개의 독립된 단위, 즉 \"객체\"들의 모임으로 파악하고자 하는 것이다. 각각의 객체는 메시지를 주고받고, 데이터를 처리할 수 있다.\n",
    ">\n",
    "> 명령형 프로그래밍인 절차지향 프로그래밍에서 발전된 형태를 나타내며, 기본 구성요소는 다음과 같다.\n",
    "\n",
    "* 클래스(Class) - 같은 종류(또는 문제 해결을 위한)의 집단에 속하는 속성(attribute)과 행위(behavior)를 정의한 것으로 객체지향 프로그램의 기본적인 사용자 정의 데이터형(user define data type)이라고 할 수 있다. 클래스는 프로그래머가 아니지만 해결해야 할 문제가 속하는 영역에 종사하는 사람이라면 사용할 수 있고, 다른 클래스 또는 외부 요소와 독립적으로 디자인하여야 한다.\n",
    "\n",
    "\n",
    "* 인스턴스 - 클래스의 인스턴스(실제로 메모리상에 할당된 것)이다. 객체는 자신 고유의 속성(attribute)을 가지며 클래스에서 정의한 행위(behavior)를 수행할 수 있다. 객체의 행위는 클래스에 정의된 행위에 대한 정의를 공유함으로써 메모리를 경제적으로 사용한다.\n",
    "\n",
    "\n",
    "* 메서드(Method) - 클래스로부터 생성된 객체를 사용하는 방법으로서 객체에 명령을 내리는 것이라 할 수 있다. 메서드는 한 객체의 속성을 조작하는 데 사용된다."
   ]
  },
  {
   "cell_type": "code",
   "execution_count": 6,
   "metadata": {},
   "outputs": [
    {
     "name": "stdout",
     "output_type": "stream",
     "text": [
      "(-7+24j)\n",
      "<class 'complex'>\n"
     ]
    }
   ],
   "source": [
    "# 복소수를 하나 만들어보고, 타입을 출력해봅시다. (제곱했을때 음수가 나오는 수=>허수)\n",
    "img_number = 3 + 4j \n",
    "print(img_number ** 2)\n",
    "print(type(img_number))\n"
   ]
  },
  {
   "cell_type": "code",
   "execution_count": 8,
   "metadata": {},
   "outputs": [
    {
     "name": "stdout",
     "output_type": "stream",
     "text": [
      "3.0\n",
      "4.0\n"
     ]
    }
   ],
   "source": [
    "# 허수부랑 실수부를 함께 출력해봅시다.\n",
    "\n",
    "#뒤에 괄호가 없다! -> 함수가 아니다!!\n",
    "print(img_number.real)\n",
    "print(img_number.imag) #속성"
   ]
  },
  {
   "cell_type": "code",
   "execution_count": 13,
   "metadata": {},
   "outputs": [
    {
     "name": "stdout",
     "output_type": "stream",
     "text": [
      "[1, 2, 3]\n"
     ]
    }
   ],
   "source": [
    "# 리스트를 하나 만들고 정렬해봅시다.\n",
    "a = [3, 2, 1]\n",
    "a.sort() #행위\n",
    "print(a)"
   ]
  },
  {
   "cell_type": "code",
   "execution_count": 14,
   "metadata": {},
   "outputs": [
    {
     "name": "stdout",
     "output_type": "stream",
     "text": [
      "['__add__', '__class__', '__contains__', '__delattr__', '__delitem__', '__dir__', '__doc__', '__eq__', '__format__', '__ge__', '__getattribute__', '__getitem__', '__gt__', '__hash__', '__iadd__', '__imul__', '__init__', '__init_subclass__', '__iter__', '__le__', '__len__', '__lt__', '__mul__', '__ne__', '__new__', '__reduce__', '__reduce_ex__', '__repr__', '__reversed__', '__rmul__', '__setattr__', '__setitem__', '__sizeof__', '__str__', '__subclasshook__', 'append', 'clear', 'copy', 'count', 'extend', 'index', 'insert', 'pop', 'remove', 'reverse', 'sort']\n"
     ]
    }
   ],
   "source": [
    "# list class의 object인 애들이 할 수 있는 것들 = 리스트가 할 수 있는 것들을 알아봅시다.\n",
    "print(dir(list))"
   ]
  },
  {
   "cell_type": "markdown",
   "metadata": {},
   "source": [
    "## Turtle\n",
    "> 거북이 클래스로 OOP 배우기"
   ]
  },
  {
   "cell_type": "code",
   "execution_count": 3,
   "metadata": {},
   "outputs": [],
   "source": [
    "import turtle"
   ]
  },
  {
   "cell_type": "code",
   "execution_count": 5,
   "metadata": {},
   "outputs": [
    {
     "data": {
      "text/plain": [
       "<turtle._Screen at 0x15b8ea22c88>"
      ]
     },
     "execution_count": 5,
     "metadata": {},
     "output_type": "execute_result"
    }
   ],
   "source": [
    "turtle.Screen()"
   ]
  },
  {
   "cell_type": "code",
   "execution_count": 1,
   "metadata": {
    "scrolled": true
   },
   "outputs": [
    {
     "ename": "NameError",
     "evalue": "name 'Form' is not defined",
     "output_type": "error",
     "traceback": [
      "\u001b[1;31m---------------------------------------------------------------------------\u001b[0m",
      "\u001b[1;31mNameError\u001b[0m                                 Traceback (most recent call last)",
      "\u001b[1;32m<ipython-input-1-5005bd905916>\u001b[0m in \u001b[0;36m<module>\u001b[1;34m\u001b[0m\n\u001b[0;32m      7\u001b[0m         \u001b[0mprint\u001b[0m\u001b[1;33m(\u001b[0m\u001b[1;34mf'{teacher}님에게 제출하였습니다.'\u001b[0m\u001b[1;33m)\u001b[0m\u001b[1;33m\u001b[0m\u001b[1;33m\u001b[0m\u001b[0m\n\u001b[0;32m      8\u001b[0m \u001b[1;33m\u001b[0m\u001b[0m\n\u001b[1;32m----> 9\u001b[1;33m \u001b[0mform_JD\u001b[0m \u001b[1;33m=\u001b[0m \u001b[0mForm\u001b[0m\u001b[1;33m(\u001b[0m\u001b[1;33m)\u001b[0m \u001b[1;31m#쓰이는 순간 따로 주소값을 가지며 쓰이는 사람에따라 서로 다른 것\u001b[0m\u001b[1;33m\u001b[0m\u001b[1;33m\u001b[0m\u001b[0m\n\u001b[0m\u001b[0;32m     10\u001b[0m \u001b[0mform_JH\u001b[0m \u001b[1;33m=\u001b[0m \u001b[0mForm\u001b[0m\u001b[1;33m(\u001b[0m\u001b[1;33m)\u001b[0m\u001b[1;33m\u001b[0m\u001b[1;33m\u001b[0m\u001b[0m\n\u001b[0;32m     11\u001b[0m \u001b[1;33m\u001b[0m\u001b[0m\n",
      "\u001b[1;31mNameError\u001b[0m: name 'Form' is not defined"
     ]
    }
   ],
   "source": [
    "class Form:\n",
    "    name = ''\n",
    "    age = 0\n",
    "    phone = ''\n",
    "    intro = ''\n",
    "    def submit(self, teacher):\n",
    "        print(f'{teacher}님에게 제출하였습니다.')\n",
    "        \n",
    "form_JD = Form() #쓰이는 순간 따로 주소값을 가지며 쓰이는 사람에따라 서로 다른 것\n",
    "form_JH = Form()\n",
    "\n",
    "form_MJ = Form()\n",
    "form_MJ.name = '김민주'\n",
    "form_MJ.age = 31\n",
    "form_MJ.phone = '01000000000'\n",
    "form_MJ.intro = 'hphk'\n",
    "form_MJ.submit('황은석')\n",
    "\n",
    "form_tak = Form()\n",
    "form_tak.name = '김탁희희탁희'\n",
    "form_tak.submit('쓰레기통')\n",
    "print(form_tak.age)"
   ]
  },
  {
   "cell_type": "markdown",
   "metadata": {},
   "source": [
    "## 실습 문제\n",
    "\n",
    "> 프로그래밍으로 나와 친구의 이름을 저장해보세요.\n",
    ">\n",
    "\n",
    "**각자의 명함과 지갑을 만들어봅시다.**\n",
    "\n",
    "* 내 생일, 전화번호, 이메일주소 정보를 담은 변수를 확인해봅시다.\n",
    "\n",
    "* 주머니(pocket)에는 돈(won)을 포함하여 현재 가지고 있는 것을 작성해보세요.\n",
    "\n",
    "* 나는 인사를 하면서 내 명함에 있는 정보 하나를 이야기합니다. `greeting` 함수를 만듭시다.\n",
    "\n",
    "* 나는 주머니에 원하는 것과 갯수를 지정하여 넣을 수 있습니다. \n",
    "\n",
    "  기존에 값이 있으면, 갯수를 추가하고 없으면 새로 만드는 `in_my_pocket` 함수를 만듭시다.\n",
    "  \n",
    "**친구의 정보와 지갑도 만들어봅시다.**"
   ]
  },
  {
   "cell_type": "code",
   "execution_count": 15,
   "metadata": {
    "scrolled": true
   },
   "outputs": [
    {
     "name": "stdout",
     "output_type": "stream",
     "text": [
      "안녕\n",
      "내 name 은/는 김민주 야\n",
      "내 phone 은/는 01000000000 야\n",
      "내 email 은/는 hardlyunique@naver.com 야\n"
     ]
    },
    {
     "data": {
      "text/plain": [
       "{'money': 150000, 'card': 2, 'candy': 5}"
      ]
     },
     "execution_count": 15,
     "metadata": {},
     "output_type": "execute_result"
    }
   ],
   "source": [
    "# 아래에 자유롭게 코드를 작성해보세요.\n",
    "my_info = {\n",
    "'name': '김민주',\n",
    "'phone': '01000000000',\n",
    "'email': 'hardlyunique@naver.com'\n",
    "}\n",
    "\n",
    "my_pocket = {\n",
    "    'money' : 150000,\n",
    "    'card' : 2\n",
    "}\n",
    "\n",
    "\n",
    "def greeting(my_info):\n",
    "    print('안녕')\n",
    "    for k, v in my_info.items():\n",
    "        print(f'내 {k} 은/는 {v} 야')\n",
    "    \n",
    "greeting(my_info)\n",
    "\n",
    "          \n",
    "def in_my_pocket(pocket, stuff, count):\n",
    "    if pocket.get(stuff):\n",
    "          pocket[stuff] += count\n",
    "    else:\n",
    "          pocket[stuff] = count\n",
    "    return pocket\n",
    "\n",
    "in_my_pocket(my_pocket, 'candy', 5)"
   ]
  },
  {
   "cell_type": "code",
   "execution_count": 30,
   "metadata": {},
   "outputs": [
    {
     "name": "stdout",
     "output_type": "stream",
     "text": [
      "화장실에 간다.\n",
      "출석을 찍는다.\n",
      "물을 뜬다.\n"
     ]
    }
   ],
   "source": [
    "# 예시\n",
    "mates = {\n",
    "    'yu': {\n",
    "        'name': '유태영',\n",
    "        'github': 'eduyu',\n",
    "        'blood_type': 'O',\n",
    "        'going_home': 'Walk'\n",
    "    }\n",
    "}\n",
    "\n",
    "def arrive(body):\n",
    "    if mates[body]['name'] == '유태영':\n",
    "        print('화장실에 간다.')\n",
    "        print('출석을 찍는다.')\n",
    "        print('물을 뜬다.')\n",
    "        \n",
    "arrive('yu')"
   ]
  },
  {
   "cell_type": "code",
   "execution_count": 11,
   "metadata": {
    "scrolled": true
   },
   "outputs": [
    {
     "name": "stdout",
     "output_type": "stream",
     "text": [
      "유태영 O eduyu\n",
      "유태영는 도착하면 화장실 를 합니다.\n"
     ]
    }
   ],
   "source": [
    "class Mate:\n",
    "\n",
    "    def set_info(self, name, github, blood, arrive):\n",
    "        self.name = name\n",
    "        self.blood = blood\n",
    "        self.github = github\n",
    "        self.arrive = arrive\n",
    "        \n",
    "    def get_info(self):\n",
    "        print(self.name, self.blood, self.github)\n",
    "    \n",
    "    def dochak(self):\n",
    "        print(f'{self.name}는 도착하면 {self.arrive} 를 합니다.')\n",
    "        \n",
    "yu = Mate()\n",
    "yu.set_info('유태영', 'eduyu', 'O', '화장실')\n",
    "yu.get_info()\n",
    "yu.dochak()"
   ]
  },
  {
   "cell_type": "code",
   "execution_count": 75,
   "metadata": {},
   "outputs": [
    {
     "name": "stdout",
     "output_type": "stream",
     "text": [
      "유태영는 도착하면 화장실를 합니다.\n",
      "3 703\n",
      "김민주는 도착하면 출석체크를 합니다.\n",
      "안녕하세요! 제 이름은 김민주입니다.\n",
      "제 혈액형은 A형 입니다.\n"
     ]
    }
   ],
   "source": [
    "# 짜여진 정보가 아니라 정보를 때려박자!!!!\n",
    "\n",
    "class Mate: \n",
    "    classroom = 703 #mate의 공통정보\n",
    "    ban = 3\n",
    "    breath = True\n",
    "    \n",
    "    def __init__(self, name, github, blood, arrive):\n",
    "        self.name = name\n",
    "        self.blood = blood\n",
    "        self.github = github\n",
    "        self.arrive = arrive\n",
    "        \n",
    "    def get_info(self):\n",
    "        print(f'안녕하세요! 제 이름은 {self.name}입니다.')\n",
    "        print(f'제 혈액형은 {self.blood}형 입니다.')\n",
    "    \n",
    "    def dochak(self):\n",
    "        print(f'{self.name}는 도착하면 {self.arrive}를 합니다.')\n",
    "        \n",
    "yu = Mate('유태영', 'eduyu', 'O', '화장실')\n",
    "yu.dochak()\n",
    "print(yu.ban, yu.classroom)\n",
    "\n",
    "kim = Mate('김민주', 'yummychuit', 'A', '출석체크')\n",
    "kim.dochak()\n",
    "kim.get_info()"
   ]
  },
  {
   "cell_type": "code",
   "execution_count": 43,
   "metadata": {
    "scrolled": true
   },
   "outputs": [
    {
     "name": "stdout",
     "output_type": "stream",
     "text": [
      "화장실을 간다.\n",
      "출석을 찍는다.\n",
      "물을 뜬다.\n"
     ]
    }
   ],
   "source": [
    "mates = {\n",
    "    'li': {\n",
    "        'name': '이아름',\n",
    "        'github': 'arm',\n",
    "        'blood_type': 'B+',\n",
    "        'going_home': 'train'\n",
    "    },\n",
    "    'kang':{\n",
    "        'name': '강진우',\n",
    "        'github': 'kangjwooooo',\n",
    "        'blood_type': 'O',\n",
    "        'going_home': 'walk'\n",
    "    },\n",
    "    'kim':{\n",
    "        'name': '김민주',\n",
    "        'github': 'kikikikikikim',\n",
    "        'blood_type': 'A',\n",
    "        'going_home': 'bus'\n",
    "    }\n",
    "}\n",
    "\n",
    "def arrive(sb):\n",
    "    if mates[sb]['name'] == '김민주':\n",
    "        print('화장실을 간다.')\n",
    "        print('출석을 찍는다.')\n",
    "        print('물을 뜬다.')\n",
    "        \n",
    "arrive('kim')"
   ]
  },
  {
   "cell_type": "code",
   "execution_count": 31,
   "metadata": {
    "scrolled": true
   },
   "outputs": [
    {
     "name": "stdout",
     "output_type": "stream",
     "text": [
      "김민주 A kikikikikikim\n",
      "김민주는 도착하면 화장실\n"
     ]
    }
   ],
   "source": [
    "class Mate:\n",
    "    def set_info(self, name, github, blood, arrive):\n",
    "        self.name = name\n",
    "        self.blood = blood\n",
    "        self.github = github\n",
    "        self.arrive = arrive\n",
    "        \n",
    "    def get_info(self):\n",
    "        print(self.name, self.blood, self.github)\n",
    "    \n",
    "    def dochak(self):\n",
    "        print(f'{self.name}는 도착하면 {self.arrive}')\n",
    "        \n",
    "kim = Mate()\n",
    "kim.set_info('김민주', 'kikikikikikim', 'A', '화장실')\n",
    "kim.get_info()\n",
    "kim.dochak()"
   ]
  },
  {
   "cell_type": "code",
   "execution_count": 5,
   "metadata": {},
   "outputs": [
    {
     "name": "stdout",
     "output_type": "stream",
     "text": [
      "True\n",
      "한글자만 넣어라ㅁ\n",
      "ㅋㅋㅋㅋㅋ\n"
     ]
    },
    {
     "data": {
      "text/plain": [
       "False"
      ]
     },
     "execution_count": 5,
     "metadata": {},
     "output_type": "execute_result"
    }
   ],
   "source": [
    "class Text:\n",
    "    content = \"\"\n",
    "    \n",
    "    def __init__(self, content): #예약되어있는 언어라 메소드처럼 사용 못함\n",
    "        self.content = content\n",
    "        \n",
    "    def is_palindrome(self): #무!!!조!!!!건!!!!! self가 있어야함\n",
    "        txt =  self.content.replace(' ', '').lower()\n",
    "        return txt == ''.join(reversed(txt))\n",
    "    \n",
    "    def start_hangman(self):\n",
    "        guess = input('한글자만 넣어라')\n",
    "        if guess in self.content:\n",
    "            print('오 맞음!')\n",
    "            return True\n",
    "        else:\n",
    "            print('ㅋㅋㅋㅋㅋ')\n",
    "            return False\n",
    "            \n",
    "my_text = Text('A santa at NASA') # 'A santa at NASA' 의 내용의 Text를 my_text에 담음!\n",
    "print(my_text.content)\n",
    "print(my_text.is_palindrome()) #True\n",
    "\n",
    "your_text = Text('apple')\n",
    "your_text.start_hangman()\n",
    "# Text('apple').start_hangman() 와 동일\n",
    "# 주어. 동사\n"
   ]
  },
  {
   "cell_type": "code",
   "execution_count": null,
   "metadata": {},
   "outputs": [],
   "source": [
    "# in_my_pocket 함수를 통해 내 주머니에 내용을 추가해봅시다."
   ]
  },
  {
   "cell_type": "code",
   "execution_count": null,
   "metadata": {},
   "outputs": [],
   "source": [
    "# greeting 함수를 통해 인사를 해봅시다.\n",
    "#=> 안녕, kim이야. 01012345678"
   ]
  },
  {
   "cell_type": "markdown",
   "metadata": {},
   "source": [
    "# 클래스 및 인스턴스"
   ]
  },
  {
   "cell_type": "markdown",
   "metadata": {},
   "source": [
    "## 클래스 객체\n",
    "\n",
    "```python\n",
    "class ClassName:\n",
    "    \n",
    "```\n",
    "\n",
    "* 선언과 동시에 클래스 객체가 생성됨.\n",
    "\n",
    "* 또한, 선언된 공간은 지역 스코프로 사용된다.\n",
    "\n",
    "* 정의된 어트리뷰트 중 변수는 멤버 변수로 불리운다.\n",
    "\n",
    "* 정의된 함수(`def`)는 메서드로 불리운다."
   ]
  },
  {
   "cell_type": "code",
   "execution_count": 10,
   "metadata": {},
   "outputs": [
    {
     "name": "stdout",
     "output_type": "stream",
     "text": [
      "<class 'type'>\n",
      "<class '__main__.TestClass'>\n",
      "Test Class\n"
     ]
    }
   ],
   "source": [
    "# Class를 만들어봅시다. #upper camel case - 언더바 대신 대문자로 구분!\n",
    "class TestClass:\n",
    "    \"\"\"Test Class\"\"\"\n",
    "    \n",
    "print(type(TestClass)) #<class 'type'>\n",
    "\n",
    "tc = TestClass()\n",
    "print(type(tc)) #<class '__main__.TestClass'>\n",
    "print(tc.__doc__) # \"\"\"주석의 내용이 나온다!\"\"\""
   ]
  },
  {
   "cell_type": "code",
   "execution_count": 54,
   "metadata": {},
   "outputs": [
    {
     "name": "stdout",
     "output_type": "stream",
     "text": [
      "HELLO!\n"
     ]
    }
   ],
   "source": [
    "# Person 클래스를 만들어봅시다.\n",
    "class Person:\n",
    "    \"\"\"What is this?????\"\"\"\n",
    "    name = '홍길동'\n",
    "    \n",
    "    def say_hi(self):\n",
    "        print('HELLO!')\n",
    "        \n",
    "    def intro(self):\n",
    "        print(f'I am {self.name}')\n",
    "        \n",
    "p = Person()\n",
    "p.say_hi()"
   ]
  },
  {
   "cell_type": "markdown",
   "metadata": {},
   "source": [
    "* 선언시 self는 반드시 작성해주세요! 나중에 설명드립니다."
   ]
  },
  {
   "cell_type": "markdown",
   "metadata": {},
   "source": [
    "## 인스턴스 객체\n",
    "\n",
    "* 인스턴스 객체는 `ClassName()`을 호출함으로써 선언된다.\n",
    "\n",
    "* 인스턴스 객체와 클래스 객체는 서로 다른 이름 공간을 가지고 있다.\n",
    "\n",
    "* 인스턴스 -> 클래스 -> 전역 순으로 탐색을 한다."
   ]
  },
  {
   "cell_type": "code",
   "execution_count": 56,
   "metadata": {},
   "outputs": [],
   "source": [
    "# iu라는 클래스 Person의 인스턴스를 만들어봅시다. \n",
    "iu = Person() #iu는 Person의 객체다!"
   ]
  },
  {
   "cell_type": "code",
   "execution_count": 57,
   "metadata": {},
   "outputs": [
    {
     "name": "stdout",
     "output_type": "stream",
     "text": [
      "HELLO!\n"
     ]
    }
   ],
   "source": [
    "# 인사하는 메서드를 호출해봅시다.\n",
    "iu.say_hi()"
   ]
  },
  {
   "cell_type": "code",
   "execution_count": 58,
   "metadata": {},
   "outputs": [
    {
     "data": {
      "text/plain": [
       "'홍길동'"
      ]
     },
     "execution_count": 58,
     "metadata": {},
     "output_type": "execute_result"
    }
   ],
   "source": [
    "# iu의 이름을 확인해봅시다.\n",
    "iu.name"
   ]
  },
  {
   "cell_type": "code",
   "execution_count": 59,
   "metadata": {},
   "outputs": [
    {
     "name": "stdout",
     "output_type": "stream",
     "text": [
      "IU\n"
     ]
    }
   ],
   "source": [
    "# iu로 이름을 바꿔주세요.\n",
    "iu.name = 'IU'\n",
    "print(iu.name)"
   ]
  },
  {
   "cell_type": "code",
   "execution_count": 60,
   "metadata": {},
   "outputs": [
    {
     "name": "stdout",
     "output_type": "stream",
     "text": [
      "I am IU\n"
     ]
    }
   ],
   "source": [
    "# iu가 인사를 합니다.\n",
    "iu.intro()"
   ]
  },
  {
   "cell_type": "code",
   "execution_count": 61,
   "metadata": {},
   "outputs": [
    {
     "data": {
      "text/plain": [
       "False"
      ]
     },
     "execution_count": 61,
     "metadata": {},
     "output_type": "execute_result"
    }
   ],
   "source": [
    "# iu와 Person이 같은지 확인해보겠습니다.\n",
    "isinstance(iu, Person)\n",
    "type(iu) #__main__.Person\n",
    "isinstance(1, int)\n",
    "isinstance(1, str)\n",
    "\n",
    "# if isinstance(user_input, str): 가능!!\n",
    "    "
   ]
  },
  {
   "cell_type": "code",
   "execution_count": 62,
   "metadata": {},
   "outputs": [
    {
     "data": {
      "text/plain": [
       "True"
      ]
     },
     "execution_count": 62,
     "metadata": {},
     "output_type": "execute_result"
    }
   ],
   "source": [
    "# iu와 Person이 같은지 확인해보겠습니다.\n",
    "type(iu) == Person\n",
    "type('a') == str"
   ]
  },
  {
   "cell_type": "code",
   "execution_count": 63,
   "metadata": {},
   "outputs": [
    {
     "name": "stdout",
     "output_type": "stream",
     "text": [
      "<__main__.Person object at 0x0000016402D39B00>\n"
     ]
    }
   ],
   "source": [
    "# iu를 출력해봅시다.\n",
    "print(iu) #<__main__.Person object at 0x0000016402D39400>\n",
    "\n",
    "#아래와 주소가 같음 -> 메모리상 어딘가에 고정되어있음"
   ]
  },
  {
   "cell_type": "code",
   "execution_count": 64,
   "metadata": {},
   "outputs": [
    {
     "data": {
      "text/plain": [
       "<__main__.Person at 0x16402d39b00>"
      ]
     },
     "execution_count": 64,
     "metadata": {},
     "output_type": "execute_result"
    }
   ],
   "source": [
    "# iu를 출력해봅시다 2.\n",
    "iu #<__main__.Person at 0x16402d39400>"
   ]
  },
  {
   "cell_type": "code",
   "execution_count": 65,
   "metadata": {},
   "outputs": [
    {
     "data": {
      "text/plain": [
       "__main__.Person"
      ]
     },
     "execution_count": 65,
     "metadata": {},
     "output_type": "execute_result"
    }
   ],
   "source": [
    "# type을 확인해봅시다.\n",
    "type(iu)"
   ]
  },
  {
   "cell_type": "markdown",
   "metadata": {},
   "source": [
    "* 파이썬 출력의 비밀 : repr, str"
   ]
  },
  {
   "cell_type": "code",
   "execution_count": null,
   "metadata": {},
   "outputs": [],
   "source": []
  },
  {
   "cell_type": "code",
   "execution_count": 69,
   "metadata": {},
   "outputs": [],
   "source": [
    "# 강다니엘을 만들어봅시다.\n",
    "kang = Person()\n",
    "kang.name = 'Daniel'"
   ]
  },
  {
   "cell_type": "code",
   "execution_count": 70,
   "metadata": {},
   "outputs": [
    {
     "name": "stdout",
     "output_type": "stream",
     "text": [
      "<__main__.Person object at 0x0000016402D36828> Daniel\n"
     ]
    }
   ],
   "source": [
    "# 강다니엘을 출력해봅시다.\n",
    "print(kang, kang.name)"
   ]
  },
  {
   "cell_type": "markdown",
   "metadata": {},
   "source": [
    "## 실습 문제 발전\n",
    "\n",
    "> 지금까지 배운 것을 통해서 Person 클래스를 만들고, 친구와 나를 표현해봅시다.\n",
    ">\n",
    "> 주머니와 정보를 가지고 있고 (멤버 변수)\n",
    "> \n",
    "> 인사(`greeting()`)와 주머니에 내용을 추가(`in_my_pocket()`)할 수 있습니다. (메서드)\n",
    ">\n",
    "> 추가적으로 `get_my_pocket()`으로 지갑에 담긴 정보를 가져와 봅시다.\n",
    ">\n",
    "> 그리고 사람을 출력하면, 지갑을 제외한 정보를 보여줘보세요. "
   ]
  },
  {
   "cell_type": "code",
   "execution_count": null,
   "metadata": {},
   "outputs": [],
   "source": [
    "# 아래에 코드를 작성해주세요.    "
   ]
  },
  {
   "cell_type": "markdown",
   "metadata": {},
   "source": [
    "## MyList만들기\n",
    "\n",
    "> 이제 배운 것을 활용하여 나만의 리스트 객체를 만들 수 있습니다. \n",
    ">\n",
    "> `class MyList:`\n",
    ">\n",
    "\n",
    "```\n",
    "* 변수\n",
    "data : 비어 있는 리스트\n",
    "\n",
    "* 메서드 \n",
    "append : 값을 받아 추가합니다.\n",
    "pop : 마지막에 있는 값을 없애고, 해당 값을 리턴합니다.\n",
    "reverse : 제자리에서 뒤집고 리턴 값은 없습니다.\n",
    "count(x) : x의 갯수를 반환합니다.\n",
    "clear : 값을 모두 삭제합니다.\n",
    "\n",
    "__repr__ : ex) '리스트 내용 1, 2, 3'\n",
    "```"
   ]
  },
  {
   "cell_type": "code",
   "execution_count": null,
   "metadata": {},
   "outputs": [],
   "source": [
    "# 아래에 코드를 작성해주세요."
   ]
  },
  {
   "cell_type": "markdown",
   "metadata": {},
   "source": [
    "## 자유롭게 만들어보기\n",
    "\n",
    "> 이 세상에 있는 무엇인가를 자유롭게 표현해주세요."
   ]
  },
  {
   "cell_type": "code",
   "execution_count": 78,
   "metadata": {},
   "outputs": [
    {
     "name": "stdout",
     "output_type": "stream",
     "text": [
      "80\n"
     ]
    }
   ],
   "source": [
    "# 아래에 코드를 작성해주세요.\n",
    "\n",
    "# Pokemon 집합에 피카츄 꼬부기 파이리.. 의 집합이 속하는 것과 같음 \n",
    "# Pokemon class에 전체의 특성 입력, 각각의 특성은 각자의 class를 만들어 넣어줌\n",
    "\n",
    "class Pokemon:\n",
    "    def __init__(self, name, level): #객체를 만드는 순간 실행시키고 싶다!?\n",
    "        self.name = name\n",
    "        self.lever = level\n",
    "        self.hp = level * 10\n",
    "        \n",
    "    def set_hp(self, point):\n",
    "        self.hp += point\n",
    "        \n",
    "    def check_status(self): #죽었는지 살았는지ㅠㅠ\n",
    "        if self.hp > 0:\n",
    "            return True\n",
    "        else:\n",
    "            return False\n",
    "        \n",
    "    def random_attack(self, enemy, skills):\n",
    "        for skill in skills:\n",
    "            \n",
    "\n",
    "            \n",
    "#     def healing_hp(self):\n",
    "#         set_hp(5)\n",
    "#     def escape_attack(self):\n",
    "#         break\n",
    "        \n",
    "    \n",
    "# a = Pokemon('피카츄1', 10)\n",
    "# b = Pokemon('피카츄2', 9)\n",
    "\n",
    "# import random\n",
    "# while a.check_status and b.check_status:\n",
    "#     if a.level > b.level:\n",
    "        \n",
    "# if a.check_status():\n",
    "#     a.body_attack(b)\n",
    "#     print(b.hp)\n",
    "# else:\n",
    "#     print(f'{b.name}의 승리!')"
   ]
  },
  {
   "cell_type": "code",
   "execution_count": null,
   "metadata": {},
   "outputs": [],
   "source": [
    "# 상속이란 상위 클래스의 내용을 받아오는 것. class .. (여기에 상속받을 클래스 이름 써주기):\n",
    "class Pikachu(Pokemon):\n",
    "    type = ('elec')\n",
    "    def body_attack(self, enemy):\n",
    "        enemy.set_hp(-1 * level)\n",
    "        \n",
    "    def volt_attack(self, enemy):\n",
    "        if 'water' in enemy.type:\n",
    "            enemy.set_hp(-1.3 * self.level)\n",
    "            print('효과는 굉장했다!')\n",
    "        else:\n",
    "            enemy.set_hp(-1.05 * self.level)\n",
    "            \n",
    "    def attack(self, enemy): #위의 함수 불러쓸 수 있음\n",
    "        c = random.choice([1, 2])\n",
    "        if c == 1:\n",
    "            self.body_attack(enemy) #피카츄가 공격한다! -> 객체 self 넣어줌\n",
    "        else:\n",
    "            self.thousand_volt(enemy)\n",
    "            \n",
    "class Squirtle(Pokemon):\n",
    "    type = ('water')\n",
    "    def body_attack(self, enemy):\n",
    "        enemy.body_attack()\n",
    "        \n"
   ]
  },
  {
   "cell_type": "code",
   "execution_count": null,
   "metadata": {},
   "outputs": [],
   "source": [
    "#battle\n",
    "\n",
    "a = Pikachu('p', 10)\n",
    "b = Squirtle('s', 10)\n",
    "\n",
    "a.attack(b)\n",
    "def battle(p1, p2):\n",
    "    import random\n",
    "    #선공 후공 결정\n",
    "    \n",
    "    "
   ]
  }
 ],
 "metadata": {
  "kernelspec": {
   "display_name": "Python 3",
   "language": "python",
   "name": "python3"
  },
  "language_info": {
   "codemirror_mode": {
    "name": "ipython",
    "version": 3
   },
   "file_extension": ".py",
   "mimetype": "text/x-python",
   "name": "python",
   "nbconvert_exporter": "python",
   "pygments_lexer": "ipython3",
   "version": "3.7.1"
  },
  "latex_envs": {
   "LaTeX_envs_menu_present": true,
   "autoclose": false,
   "autocomplete": true,
   "bibliofile": "biblio.bib",
   "cite_by": "apalike",
   "current_citInitial": 1,
   "eqLabelWithNumbers": true,
   "eqNumInitial": 1,
   "hotkeys": {
    "equation": "Ctrl-E",
    "itemize": "Ctrl-I"
   },
   "labels_anchors": false,
   "latex_user_defs": false,
   "report_style_numbering": false,
   "user_envs_cfg": false
  },
  "toc": {
   "base_numbering": 1,
   "nav_menu": {},
   "number_sections": true,
   "sideBar": true,
   "skip_h1_title": false,
   "title_cell": "Table of Contents",
   "title_sidebar": "Contents",
   "toc_cell": false,
   "toc_position": {},
   "toc_section_display": true,
   "toc_window_display": false
  }
 },
 "nbformat": 4,
 "nbformat_minor": 2
}
