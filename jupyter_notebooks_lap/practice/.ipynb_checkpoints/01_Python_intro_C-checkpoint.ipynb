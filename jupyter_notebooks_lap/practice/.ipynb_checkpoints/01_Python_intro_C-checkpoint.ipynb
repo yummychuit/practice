{
 "cells": [
  {
   "cell_type": "markdown",
   "metadata": {},
   "source": [
    "<h1>Table of Contents<span class=\"tocSkip\"></span></h1>\n",
    "<div class=\"toc\"><ul class=\"toc-item\"><li><span><a href=\"#Python-기초\" data-toc-modified-id=\"Python-기초-1\"><span class=\"toc-item-num\">1&nbsp;&nbsp;</span>Python 기초</a></span><ul class=\"toc-item\"><li><span><a href=\"#개요\" data-toc-modified-id=\"개요-1.1\"><span class=\"toc-item-num\">1.1&nbsp;&nbsp;</span>개요</a></span></li><li><span><a href=\"#식별자\" data-toc-modified-id=\"식별자-1.2\"><span class=\"toc-item-num\">1.2&nbsp;&nbsp;</span>식별자</a></span></li><li><span><a href=\"#기초-문법\" data-toc-modified-id=\"기초-문법-1.3\"><span class=\"toc-item-num\">1.3&nbsp;&nbsp;</span>기초 문법</a></span><ul class=\"toc-item\"><li><span><a href=\"#인코딩-선언\" data-toc-modified-id=\"인코딩-선언-1.3.1\"><span class=\"toc-item-num\">1.3.1&nbsp;&nbsp;</span>인코딩 선언</a></span></li><li><span><a href=\"#주석(Comment)\" data-toc-modified-id=\"주석(Comment)-1.3.2\"><span class=\"toc-item-num\">1.3.2&nbsp;&nbsp;</span>주석(Comment)</a></span></li><li><span><a href=\"#코드-라인\" data-toc-modified-id=\"코드-라인-1.3.3\"><span class=\"toc-item-num\">1.3.3&nbsp;&nbsp;</span>코드 라인</a></span></li></ul></li></ul></li><li><span><a href=\"#변수(variable)-및-자료형\" data-toc-modified-id=\"변수(variable)-및-자료형-2\"><span class=\"toc-item-num\">2&nbsp;&nbsp;</span>변수(variable) 및 자료형</a></span><ul class=\"toc-item\"><li><span><a href=\"#수치형(Numbers)\" data-toc-modified-id=\"수치형(Numbers)-2.1\"><span class=\"toc-item-num\">2.1&nbsp;&nbsp;</span>수치형(Numbers)</a></span><ul class=\"toc-item\"><li><span><a href=\"#int-(정수)\" data-toc-modified-id=\"int-(정수)-2.1.1\"><span class=\"toc-item-num\">2.1.1&nbsp;&nbsp;</span><code>int</code> (정수)</a></span></li><li><span><a href=\"#float(부동소수점,-실수)\" data-toc-modified-id=\"float(부동소수점,-실수)-2.1.2\"><span class=\"toc-item-num\">2.1.2&nbsp;&nbsp;</span><code>float</code>(부동소수점, 실수)</a></span></li><li><span><a href=\"#complex-(복소수)\" data-toc-modified-id=\"complex-(복소수)-2.1.3\"><span class=\"toc-item-num\">2.1.3&nbsp;&nbsp;</span><code>complex</code> (복소수)</a></span></li></ul></li><li><span><a href=\"#Bool\" data-toc-modified-id=\"Bool-2.2\"><span class=\"toc-item-num\">2.2&nbsp;&nbsp;</span>Bool</a></span></li><li><span><a href=\"#None\" data-toc-modified-id=\"None-2.3\"><span class=\"toc-item-num\">2.3&nbsp;&nbsp;</span>None</a></span></li><li><span><a href=\"#문자형(String)\" data-toc-modified-id=\"문자형(String)-2.4\"><span class=\"toc-item-num\">2.4&nbsp;&nbsp;</span>문자형(String)</a></span><ul class=\"toc-item\"><li><span><a href=\"#기본-활용법\" data-toc-modified-id=\"기본-활용법-2.4.1\"><span class=\"toc-item-num\">2.4.1&nbsp;&nbsp;</span>기본 활용법</a></span></li><li><span><a href=\"#이스케이프-문자열\" data-toc-modified-id=\"이스케이프-문자열-2.4.2\"><span class=\"toc-item-num\">2.4.2&nbsp;&nbsp;</span>이스케이프 문자열</a></span><ul class=\"toc-item\"><li><span><a href=\"#깜짝-퀴즈\" data-toc-modified-id=\"깜짝-퀴즈-2.4.2.1\"><span class=\"toc-item-num\">2.4.2.1&nbsp;&nbsp;</span>깜짝 퀴즈</a></span></li></ul></li><li><span><a href=\"#String-interpolation\" data-toc-modified-id=\"String-interpolation-2.4.3\"><span class=\"toc-item-num\">2.4.3&nbsp;&nbsp;</span>String interpolation</a></span></li></ul></li></ul></li><li><span><a href=\"#연산자\" data-toc-modified-id=\"연산자-3\"><span class=\"toc-item-num\">3&nbsp;&nbsp;</span>연산자</a></span><ul class=\"toc-item\"><li><span><a href=\"#산술-연산자\" data-toc-modified-id=\"산술-연산자-3.1\"><span class=\"toc-item-num\">3.1&nbsp;&nbsp;</span>산술 연산자</a></span></li><li><span><a href=\"#비교-연산자\" data-toc-modified-id=\"비교-연산자-3.2\"><span class=\"toc-item-num\">3.2&nbsp;&nbsp;</span>비교 연산자</a></span></li><li><span><a href=\"#논리-연산자\" data-toc-modified-id=\"논리-연산자-3.3\"><span class=\"toc-item-num\">3.3&nbsp;&nbsp;</span>논리 연산자</a></span></li><li><span><a href=\"#복합-연산자\" data-toc-modified-id=\"복합-연산자-3.4\"><span class=\"toc-item-num\">3.4&nbsp;&nbsp;</span>복합 연산자</a></span></li><li><span><a href=\"#기타-연산자\" data-toc-modified-id=\"기타-연산자-3.5\"><span class=\"toc-item-num\">3.5&nbsp;&nbsp;</span>기타 연산자</a></span><ul class=\"toc-item\"><li><span><a href=\"#Concatenation\" data-toc-modified-id=\"Concatenation-3.5.1\"><span class=\"toc-item-num\">3.5.1&nbsp;&nbsp;</span>Concatenation</a></span></li><li><span><a href=\"#Containment-Test\" data-toc-modified-id=\"Containment-Test-3.5.2\"><span class=\"toc-item-num\">3.5.2&nbsp;&nbsp;</span>Containment Test</a></span></li><li><span><a href=\"#Identity\" data-toc-modified-id=\"Identity-3.5.3\"><span class=\"toc-item-num\">3.5.3&nbsp;&nbsp;</span>Identity</a></span></li><li><span><a href=\"#Indexing/Slicing\" data-toc-modified-id=\"Indexing/Slicing-3.5.4\"><span class=\"toc-item-num\">3.5.4&nbsp;&nbsp;</span>Indexing/Slicing</a></span></li></ul></li><li><span><a href=\"#연산자-우선순위\" data-toc-modified-id=\"연산자-우선순위-3.6\"><span class=\"toc-item-num\">3.6&nbsp;&nbsp;</span>연산자 우선순위</a></span></li></ul></li><li><span><a href=\"#기초-형변환(Type-conversion,-Typecasting)\" data-toc-modified-id=\"기초-형변환(Type-conversion,-Typecasting)-4\"><span class=\"toc-item-num\">4&nbsp;&nbsp;</span>기초 형변환(Type conversion, Typecasting)</a></span><ul class=\"toc-item\"><li><span><a href=\"#암시적-형변환(Implicit-Type-Conversion)\" data-toc-modified-id=\"암시적-형변환(Implicit-Type-Conversion)-4.1\"><span class=\"toc-item-num\">4.1&nbsp;&nbsp;</span>암시적 형변환(Implicit Type Conversion)</a></span></li><li><span><a href=\"#명시적-형변환(Explicit-Type-Conversion)\" data-toc-modified-id=\"명시적-형변환(Explicit-Type-Conversion)-4.2\"><span class=\"toc-item-num\">4.2&nbsp;&nbsp;</span>명시적 형변환(Explicit Type Conversion)</a></span></li></ul></li><li><span><a href=\"#시퀀스(sequence)-자료형\" data-toc-modified-id=\"시퀀스(sequence)-자료형-5\"><span class=\"toc-item-num\">5&nbsp;&nbsp;</span>시퀀스(sequence) 자료형</a></span><ul class=\"toc-item\"><li><span><a href=\"#list\" data-toc-modified-id=\"list-5.1\"><span class=\"toc-item-num\">5.1&nbsp;&nbsp;</span><code>list</code></a></span></li><li><span><a href=\"#tuple\" data-toc-modified-id=\"tuple-5.2\"><span class=\"toc-item-num\">5.2&nbsp;&nbsp;</span><code>tuple</code></a></span></li><li><span><a href=\"#range()\" data-toc-modified-id=\"range()-5.3\"><span class=\"toc-item-num\">5.3&nbsp;&nbsp;</span><code>range()</code></a></span></li><li><span><a href=\"#시퀀스에서-활용할-수-있는-연산자/함수\" data-toc-modified-id=\"시퀀스에서-활용할-수-있는-연산자/함수-5.4\"><span class=\"toc-item-num\">5.4&nbsp;&nbsp;</span>시퀀스에서 활용할 수 있는 연산자/함수</a></span></li></ul></li><li><span><a href=\"#set,-dictionary\" data-toc-modified-id=\"set,-dictionary-6\"><span class=\"toc-item-num\">6&nbsp;&nbsp;</span>set, dictionary</a></span><ul class=\"toc-item\"><li><span><a href=\"#set\" data-toc-modified-id=\"set-6.1\"><span class=\"toc-item-num\">6.1&nbsp;&nbsp;</span><code>set</code></a></span></li><li><span><a href=\"#dictionary\" data-toc-modified-id=\"dictionary-6.2\"><span class=\"toc-item-num\">6.2&nbsp;&nbsp;</span><code>dictionary</code></a></span></li></ul></li><li><span><a href=\"#정리\" data-toc-modified-id=\"정리-7\"><span class=\"toc-item-num\">7&nbsp;&nbsp;</span>정리</a></span><ul class=\"toc-item\"><li><span><a href=\"#데이터-타입\" data-toc-modified-id=\"데이터-타입-7.1\"><span class=\"toc-item-num\">7.1&nbsp;&nbsp;</span>데이터 타입</a></span></li><li><span><a href=\"#Type-Conversion\" data-toc-modified-id=\"Type-Conversion-7.2\"><span class=\"toc-item-num\">7.2&nbsp;&nbsp;</span>Type Conversion</a></span></li></ul></li></ul></div>"
   ]
  },
  {
   "cell_type": "markdown",
   "metadata": {},
   "source": [
    "# Python 기초\n",
    "\n",
    "## 개요\n",
    "\n",
    "본 강의 자료는 [Python 공식 Tutorial](https://docs.python.org/3.6/tutorial/index.html)에 근거하여 만들어졌으며, Python 3.6버전에 해당하는 내용을 담고 있습니다.\n",
    "\n",
    "또한, 파이썬에서 제공하는 스타일 가이드인 [`PEP-8`](https://www.python.org/dev/peps/pep-0008/) 내용을 반영하였습니다. \n",
    "\n",
    "파이썬을 활용하는 다양한 IT기업들은 대내외적으로 본인들의 스타일 가이드를 제공하고 있습니다. \n",
    "\n",
    "* [구글 스타일 가이드](https://github.com/google/styleguide/blob/gh-pages/pyguide.md)\n",
    "* [Tensorflow 스타일 가이드](https://www.tensorflow.org/community/style_guide)"
   ]
  },
  {
   "cell_type": "markdown",
   "metadata": {},
   "source": [
    "## 식별자\n",
    "\n",
    "파이썬에서 식별자는 변수, 함수, 모듈, 클래스 등을 식별하는데 사용되는 이름이다. \n",
    "\n",
    "* 식별자의 이름은 영문알파벳, \\_, 숫자로 구성된다.\n",
    "* 첫 글자에 숫자가 올 수 없다. \n",
    "* 대소문자를 구별한다.\n",
    "* 아래의 예약어는 사용할 수 없다. \n",
    "* 내장함수나 모듈 등의 이름으로도 만들면 안된다. \n",
    "\n",
    "* 에러나는 것이 아니라 쓰면 안됨.\n",
    "  -> str() 형변환 함수로 정해진 식별자로 변수를 할당해버리면, 함수호출이 되지 않음.\n",
    "```\n",
    "False, None, True, and, as, assert, break, class, continue, def, del, elif, else, except, finally, for, from, global, if, import, in, is, lambda, nonlocal, not, or, pass, raise, return, try, while, with, yield\n",
    "```"
   ]
  },
  {
   "cell_type": "code",
   "execution_count": 2,
   "metadata": {},
   "outputs": [
    {
     "name": "stdout",
     "output_type": "stream",
     "text": [
      "['False', 'None', 'True', 'and', 'as', 'assert', 'async', 'await', 'break', 'class', 'continue', 'def', 'del', 'elif', 'else', 'except', 'finally', 'for', 'from', 'global', 'if', 'import', 'in', 'is', 'lambda', 'nonlocal', 'not', 'or', 'pass', 'raise', 'return', 'try', 'while', 'with', 'yield']\n"
     ]
    }
   ],
   "source": [
    "import keyword\n",
    "print(keyword.kwlist) #예약어로 잡혀있는 키워드들 보여줌. 변수로 쓸 수 없음."
   ]
  },
  {
   "cell_type": "markdown",
   "metadata": {},
   "source": [
    "## 기초 문법\n",
    "\n",
    "### 인코딩 선언\n",
    "\n",
    "인코딩은 선언하지 않더라도 `UTF-8`로 기본 설정이 되어 있다. \n",
    "\n",
    "만약, 인코딩을 설정하려면 코드 상단에 아래와 같이 선언한다. \n",
    "주석으로 보이지만, Python `parser`에 의해 읽혀진다."
   ]
  },
  {
   "cell_type": "code",
   "execution_count": 3,
   "metadata": {},
   "outputs": [],
   "source": [
    "# -*- coding: utf-8 -*-\n",
    "# 주석이지만 -*-는 읽혀진다"
   ]
  },
  {
   "cell_type": "markdown",
   "metadata": {},
   "source": [
    "### 주석(Comment)\n",
    "\n",
    "* 주석은 `#`으로 표현한다. \n",
    "* `docstring`은 `\"\"\"`으로 표현한다. \n",
    "   \n",
    "   : 여러 줄의 주석을 작성할 수 있으며, 보통 함수/클래스 선언 다음에 해당하는 설명을 위해 활용한다."
   ]
  },
  {
   "cell_type": "code",
   "execution_count": null,
   "metadata": {},
   "outputs": [],
   "source": [
    "print(ss3.__doc__)  #함수이름.__doc__ ->주석 내용 나옴"
   ]
  },
  {
   "cell_type": "markdown",
   "metadata": {},
   "source": [
    "### 코드 라인\n",
    "* 기본적으로 파이썬에서는 `;` 을 작성하지 않는다.\n",
    "\n",
    "* 한 줄로 표기할 떄는 `;`를 작성하여 표기할 수 있다. "
   ]
  },
  {
   "cell_type": "code",
   "execution_count": 4,
   "metadata": {},
   "outputs": [
    {
     "ename": "SyntaxError",
     "evalue": "invalid syntax (<ipython-input-4-9f784773ba4e>, line 1)",
     "output_type": "error",
     "traceback": [
      "\u001b[1;36m  File \u001b[1;32m\"<ipython-input-4-9f784773ba4e>\"\u001b[1;36m, line \u001b[1;32m1\u001b[0m\n\u001b[1;33m    print('ss3') print('coding') #연결해서 쓰면 안됨\u001b[0m\n\u001b[1;37m                     ^\u001b[0m\n\u001b[1;31mSyntaxError\u001b[0m\u001b[1;31m:\u001b[0m invalid syntax\n"
     ]
    }
   ],
   "source": [
    "print('ss3') print('coding') #연결해서 쓰면 안됨\n",
    "print('ss3'); print('coding') #가능하나 쓰지 않는다"
   ]
  },
  {
   "cell_type": "markdown",
   "metadata": {},
   "source": [
    "* 줄을 여러줄 작성할 때는 역슬래시`\\`를 사용할 수 있다.\n",
    "* `[]` `{}` `()`는 `\\` 없이도 가능하다."
   ]
  },
  {
   "cell_type": "markdown",
   "metadata": {},
   "source": [
    "# 변수(variable) 및 자료형\n",
    "\n",
    "* 변수는 `=`을 통해 할당(assignment) 된다. \n",
    "\n",
    "* 해당 자료형을 확인하기 위해서는 `type()`을 활용한다.\n",
    "\n",
    "* 해당 변수의 메모리 주소를 확인하기 위해서는 `id()`를 활용한다."
   ]
  },
  {
   "cell_type": "markdown",
   "metadata": {},
   "source": [
    "* 같은 값을 동시에 할당할 수 있다.\n",
    "* 다른 값을 동시에 할당 가능하다."
   ]
  },
  {
   "cell_type": "code",
   "execution_count": null,
   "metadata": {},
   "outputs": [],
   "source": [
    "x = y = 100\n",
    "print(x)\n",
    "print(y)"
   ]
  },
  {
   "cell_type": "code",
   "execution_count": null,
   "metadata": {},
   "outputs": [],
   "source": [
    "a = 1\n",
    "b = 2\n",
    "\n",
    "tmp = a\n",
    "a = b\n",
    "b = tmp\n",
    "\n",
    "print(a)\n",
    "print(b)"
   ]
  },
  {
   "cell_type": "code",
   "execution_count": null,
   "metadata": {},
   "outputs": [],
   "source": [
    "a, b = 1, 2\n",
    "a, b = b, a\n",
    "\n",
    "print(a, b) #띄어쓰기로 나옴\n",
    "print(a)\n",
    "print(b)"
   ]
  },
  {
   "cell_type": "code",
   "execution_count": null,
   "metadata": {},
   "outputs": [],
   "source": [
    "# 이건 될까요?\n",
    "x, y = 1\n",
    "print(x)\n",
    "print(y) #안돼요 갯수 맞춰줘야함"
   ]
  },
  {
   "cell_type": "markdown",
   "metadata": {},
   "source": [
    "* 이를 활용하면 서로 값을 바꾸고 싶은 경우 아래와 같이 활용 가능하다."
   ]
  },
  {
   "cell_type": "code",
   "execution_count": null,
   "metadata": {},
   "outputs": [],
   "source": [
    "# 쉽게 변수 값을 swap 가능함.\n",
    "last_name, first_name = 'kim', 'minjoo' #good!\n",
    "last_name = 'kim'; first_name = 'minjoo' #bad!!!!!\n",
    "\n",
    "last_name, first_name = first_name, last_name"
   ]
  },
  {
   "cell_type": "markdown",
   "metadata": {},
   "source": [
    "## 수치형(Numbers)\n",
    "\n",
    "###  `int` (정수)\n",
    "\n",
    "모든 정수는 `int`로 표현된다.\n",
    "\n",
    "파이썬 3.x 버전에서는 `long` 타입은 없고 모두 `int` 형으로 표기 된다.\n",
    "\n",
    "10진수가 아닌 8진수 : `0o`/2진수 : `0b` /16진수: `0x`로도 표현 가능하다. "
   ]
  },
  {
   "cell_type": "code",
   "execution_count": 5,
   "metadata": {},
   "outputs": [],
   "source": [
    "# 보통 프로그래밍 언어 및 파이썬 2.x에서의 long은 OS 기준 32/64비트이다.\n",
    "# 파이썬 3.x에서는 모두 int로 통합되었다.\n",
    "# 파이썬은 기존 C 계열 프로그래밍 언어와 다르게 정수 자료형에서 오버플로우가 없다.\n",
    "# arbitrary-precision arithmetic를 사용하기 때문이다. "
   ]
  },
  {
   "cell_type": "code",
   "execution_count": null,
   "metadata": {},
   "outputs": [],
   "source": [
    "# n진수 2, 8, 10, 16\n",
    "\n",
    "binary_number = 0b100 #0b + 2진수 숫자\n",
    "\n",
    "octal_number = 0o777\n",
    "\n",
    "decimal_number = 2019\n",
    "\n",
    "hexadecimal_number = 0xfff\n",
    "print('''\n",
    "2진수 : {},\n",
    "8진수 : {},\n",
    "10진수 : {},\n",
    "16진수 : {}\n",
    "'''.format(binary_number, octal_number, decimal_number, hexadecimal_number))"
   ]
  },
  {
   "cell_type": "markdown",
   "metadata": {},
   "source": [
    "### `float`(부동소수점, 실수)\n",
    "\n",
    "실수는 `float`로 표현된다. \n",
    "\n",
    "다만, 실수를 컴퓨터가 표현하는 과정에서 부동소수점을 사용하며, 항상 같은 값으로 일치되지 않는다. (floating point rounding error)\n",
    "\n",
    "이는 컴퓨터가 2진수(비트)를 통해 숫자를 표현하는 과정에서 생기는 오류이며, 대부분의 경우는 중요하지 않으나 값을 같은지 비교하는 과정에서 문제가 발생할 수 있다.\n",
    "\n",
    "* 실수의 경우 실제로 값을 처리하기 위해서는 조심할 필요가 있다.\n",
    "* 따라서 다음과 같은 방법으로 처리 할 수 있다. 이외에 다양한 방법이 있음"
   ]
  },
  {
   "cell_type": "code",
   "execution_count": null,
   "metadata": {},
   "outputs": [],
   "source": [
    "#2진수를 통해 숫자를 표현하는 과정에서 생기는 오류..\n",
    "3.5 - 3.12 == 0.38 #False라고 나옴\n",
    "round(3.5 - 3.12, 2) == 0.38 #True라고 나옴. 반올림 처리 하면 됨."
   ]
  },
  {
   "cell_type": "code",
   "execution_count": null,
   "metadata": {},
   "outputs": [],
   "source": [
    "# 처리방법 1-1. 절대값을 비교\n",
    "a = 0.1 * 3\n",
    "b = 0.3\n",
    "\n",
    "abs(a - b) <= 1e-10 #abs는 절대값 (0.0000000001보다 차이가 안나면 무시하기로 하자!)"
   ]
  },
  {
   "cell_type": "code",
   "execution_count": null,
   "metadata": {},
   "outputs": [],
   "source": [
    "# 처리방법 1-2. 절대값 비교를 내장된 float epsilon값과 비교\n",
    "import sys\n",
    "abs(a - b) <= sys.float_info.epsilon\n",
    "sys.float_info.epsilon #아주 작은 수!"
   ]
  },
  {
   "cell_type": "code",
   "execution_count": null,
   "metadata": {},
   "outputs": [],
   "source": [
    "# 처리방법 2. math 모듈을 통해 근사한 값인지 비교\n",
    "# python 3.5부터는 math 모듈을 활용할 수 있다.\n",
    "import math\n",
    "math.isclose(a, b) #사실상 같은 값! 아주아주 비슷하냐!?"
   ]
  },
  {
   "cell_type": "markdown",
   "metadata": {},
   "source": [
    "### `complex` (복소수)\n",
    "\n",
    "복소수는 허수부를 `j`로 표현한다. "
   ]
  },
  {
   "cell_type": "code",
   "execution_count": null,
   "metadata": {},
   "outputs": [],
   "source": [
    "a = 3 - 4j\n",
    "print(a.imag) #-4.0\n",
    "print(a.real) #실수 부분 3\n",
    "print(a.conjugate()) # 3+4j\n",
    "print(a.conjugate() * a) #25"
   ]
  },
  {
   "cell_type": "markdown",
   "metadata": {},
   "source": [
    "## Bool\n",
    "\n",
    "파이썬에는 `True`와 `False`로 이뤄진 `bool` 타입이 있다.\n",
    "\n",
    "비교/논리 연산을 수행 등에서 활용된다.\n",
    "\n",
    "다음은 `False`로 변환됩니다.\n",
    "```\n",
    "0, 0.0, (), [], {}, '', None\n",
    "```"
   ]
  },
  {
   "cell_type": "code",
   "execution_count": 6,
   "metadata": {},
   "outputs": [],
   "source": [
    "#None은 공허의상태 => 비어있는 것들은 다 False"
   ]
  },
  {
   "cell_type": "markdown",
   "metadata": {},
   "source": [
    "## None\n",
    "\n",
    "파이썬에서는 값이 없음을 표현하기 위해 `None`타입이 존재합니다."
   ]
  },
  {
   "cell_type": "markdown",
   "metadata": {},
   "source": [
    "## 문자형(String)\n",
    "\n",
    "### 기본 활용법\n",
    "\n",
    "문자열은 Single quotes(`'`)나 Double quotes(`\"`)을 활용하여 표현 가능하다. \n",
    "\n",
    "단, 문자열을 묶을 때 동일한 문장부호를 활용해야하며, `PEP-8`에서는 **하나의 문장부호를 선택**하여 유지하도록 하고 있습니다. \n",
    "(Pick a rule and Stick to it)\n",
    "\n",
    "* 다만 문자열 안에 문장부호(`'`, `\"`)가 활용될 경우 이스케이프 문자(`\\`)를 사용하는 것 대신 활용 가능 합니다. \n",
    "\n",
    "* 여러줄에 걸쳐있는 문장은 다음과 같이 표현 가능합니다.\n",
    "\n",
    "`PEP-8`에 따르면 이 경우에는 반드시 `\"\"\"`를 사용하도록 되어 있습니다.\n"
   ]
  },
  {
   "cell_type": "code",
   "execution_count": 7,
   "metadata": {},
   "outputs": [
    {
     "name": "stdout",
     "output_type": "stream",
     "text": [
      "\n",
      "말하는대로,\n",
      "쓰는대로, \n",
      "다 써져요!\n",
      "\n"
     ]
    }
   ],
   "source": [
    "print(\"\"\"\n",
    "말하는대로,\n",
    "쓰는대로, \n",
    "다 써져요!\n",
    "\"\"\")"
   ]
  },
  {
   "cell_type": "markdown",
   "metadata": {},
   "source": [
    "### 이스케이프 문자열\n",
    "\n",
    "문자열을 활용하는 경우 특수문자 혹은 조작을 하기 위하여 사용되는 것으로 `\\`를 활용하여 이를 구분한다. \n",
    "\n",
    "|<center>예약문자</center>|내용(의미)|\n",
    "|:--------:|:--------:|\n",
    "|\\n|줄바꿈|\n",
    "|\\t|탭|\n",
    "|\\r|캐리지리턴|\n",
    "|\\0|널(Null)|\n",
    "|`\\\\`|`\\`|\n",
    "|\\'|단일인용부호(')|\n",
    "|\\\"|이중인용부호(\")|\n",
    "\n",
    "* 이를 출력할 때 활용할 수가 있다."
   ]
  },
  {
   "cell_type": "code",
   "execution_count": null,
   "metadata": {},
   "outputs": [],
   "source": [
    "print('나는 뒤에 문자열과 떨어지기 싫어', end='\\t') #end값이 기본으로 \\n으로 설정되어있음\n",
    "print('나는 항상 말을 세게 하지', end='!!!\\n')\n",
    "print('아 졸려', end='!!!')"
   ]
  },
  {
   "cell_type": "markdown",
   "metadata": {},
   "source": [
    "#### 깜짝 퀴즈\n",
    "\n",
    "다음의 문장을 출력해보세요.\n",
    "\n",
    "- `\"\"\"` 사용 금지\n",
    "- `print` 여러번 사용 금지\n",
    "\n",
    "\n",
    "```\n",
    "\"파일은 C:\\Windows\\Users\\내문서\\Python에 저장이 되어있습니다.\"\n",
    "나는 생각했다. 'cd를 써서 git bash로 들어가봐야지'\n",
    "```"
   ]
  },
  {
   "cell_type": "code",
   "execution_count": 8,
   "metadata": {},
   "outputs": [
    {
     "name": "stdout",
     "output_type": "stream",
     "text": [
      "\"파일은 C:\\Windows\\Users\\내문서\\Python에 저장이 되어있습니다.\"\n",
      "나는 생각했다. 'cd를 써서 git bash로 들어가봐야지'\n"
     ]
    }
   ],
   "source": [
    "# 여기에 코드를 작성해주세요.\n",
    "print('\\\"파일은 C:\\\\Windows\\\\Users\\\\내문서\\\\Python에 저장이 되어있습니다.\\\"\\n나는 생각했다. \\'cd를 써서 git bash로 들어가봐야지\\'')"
   ]
  },
  {
   "cell_type": "markdown",
   "metadata": {},
   "source": [
    "### String interpolation \n",
    "\n",
    "1) `%-formatting` \n",
    "\n",
    "2) [`str.format()` ](https://pyformat.info/)\n",
    "\n",
    "3) [`f-strings`](https://www.python.org/dev/peps/pep-0498/) : 파이썬 3.6 버전 이후에 지원 되는 사항입니다.\n",
    "\n",
    "본 슬라이드에서는 `f-strings`의 기본적인 활용법만 알려드리고 나머지 `.format()`는 해당 [링크](https://pyformat.info/)에서 확인바랍니다.\n",
    "\n",
    "* f-strings에서는 형식을 지정할 수 있으며, 연산도 가능합니다."
   ]
  },
  {
   "cell_type": "code",
   "execution_count": null,
   "metadata": {},
   "outputs": [],
   "source": [
    "name = 'kim'\n",
    "year = 2019\n",
    "\n",
    "'Hello, %s' %name #%s 이 뒤에 string이 올거야 %name 그 string이 name이야\n",
    "'Hello, {}'.format(name)\n",
    "f'Hello, {name}, It\\'s {year}'"
   ]
  },
  {
   "cell_type": "code",
   "execution_count": null,
   "metadata": {},
   "outputs": [],
   "source": [
    "import datetime\n",
    "today = datetime.datetime.now()\n",
    "print(today)\n",
    "\n",
    "f'오늘은 {today:%y}년 {today:%m}월 {today:%d}일 {today:%A}'\n",
    "\n",
    "pi = 3.1415926535\n",
    "r = 2\n",
    "f'원주율은 {pi:0.3}, 반지름 {r}인 원의 넓이는 {pi * r ** 2}'"
   ]
  },
  {
   "cell_type": "markdown",
   "metadata": {},
   "source": [
    "# 연산자\n",
    "\n",
    "## 산술 연산자\n",
    "Python에서는 기본적인 사칙연산이 가능합니다. \n",
    "\n",
    "|연산자|내용|\n",
    "|----|---|\n",
    "|+|덧셈|\n",
    "|-|뺄셈|\n",
    "|\\*|곱셈|\n",
    "|/|나눗셈|\n",
    "|//|몫|\n",
    "|%|나머지(modulo)|\n",
    "|\\*\\*|거듭제곱|\n",
    "\n",
    "\n",
    "* 양수/음수도 표현 가능합니다."
   ]
  },
  {
   "cell_type": "code",
   "execution_count": null,
   "metadata": {},
   "outputs": [],
   "source": [
    "divmod(5, 2) #5 / 2 의 (몫, 나머지)\n",
    "quotient, remainder = divmod(5, 2)\n",
    "print(f'몫은 {quotient}, 나머지는 {remainder}')"
   ]
  },
  {
   "cell_type": "code",
   "execution_count": null,
   "metadata": {},
   "outputs": [],
   "source": [
    "positive_num = 4\n",
    "print(-positive_num)\n",
    "print(--positive_num)"
   ]
  },
  {
   "cell_type": "markdown",
   "metadata": {},
   "source": [
    "## 비교 연산자\n",
    "\n",
    "우리가 수학에서 배운 연산자와 동일하게 값을 비교할 수 있습니다.\n",
    "\n",
    "|연산자|내용|\n",
    "|----|---|\n",
    "|a > b|초과|\n",
    "|a < b|미만|\n",
    "|a >= b|이상|\n",
    "|a <= b|이하|\n",
    "|a == b|같음|\n",
    "|a != b|같지않음|\n",
    "\n"
   ]
  },
  {
   "cell_type": "markdown",
   "metadata": {},
   "source": [
    "## 논리 연산자\n",
    "\n",
    "|연산자|내용|\n",
    "|---|---|\n",
    "|a and b|a와 b 모두 True시만 True|\n",
    "|a or b|a 와 b 모두 False시만 False|\n",
    "|not a|True -> False, False -> True|\n",
    "\n",
    "우리가 보통 알고 있는 `&` `|`은 파이썬에서 비트 연산자이다.\n",
    "\n",
    "* 파이썬에서 and는 a가 거짓이면 a를 리턴하고, 참이면 b를 리턴한다.\n",
    "* 파이썬에서 or은 a가 참이면 a를 리턴하고, 거짓이면 b를 리턴한다.\n"
   ]
  },
  {
   "cell_type": "code",
   "execution_count": null,
   "metadata": {},
   "outputs": [],
   "source": [
    "print(True and True and False) #하나라도 False면 다 False =>False\n",
    "print(True and True and True) #eg. Login =>True\n",
    "\n",
    "print(False or False or True or False) #하나라도 True면 다 True\n",
    "print(False or True or False or False) #ssafy 학생증 밥먹기\n",
    "\n",
    "print(not True) #=>False\n",
    "print(not 0) #=not False =>True\n",
    "print(not True and not 0) #=>False\n",
    "print(not 0 and not [] and not '') #=>True\n",
    "\n",
    "# quiz!\n",
    "print(3 and 5 and 1 and 7 and 9) # 맨 뒤 숫자? 0이 나오기 전까지 마지막으로 본 숫자\n",
    "print(0 and 3) # 0은 그냥 0으로 나옴\n",
    "print(3 and 0) # bool(0) == False\n",
    "print(0 and 0) # 0이 나오는 순간 다음껀 의미가 없어져 0이 나옴\n",
    "\n",
    "print(3 or 5) # 맨 앞 숫자? 0이 아닌 숫자가 나오기 전까지 마지막으로 본 숫자\n",
    "print(0 or 3) # 3\n",
    "print(3 or 0) # 3\n",
    "print(0 or 0) # 0"
   ]
  },
  {
   "cell_type": "markdown",
   "metadata": {},
   "source": [
    "## 복합 연산자\n",
    "\n",
    "복합 연산자는 연산과 대입이 함께 이뤄진다. \n",
    "\n",
    "가장 많이 활용되는 경우는 반복문을 통해서 갯수를 카운트하거나 할 때 활용된다.\n",
    "\n",
    "|연산자|내용|\n",
    "|----|---|\n",
    "|a += b|a = a + b|\n",
    "|a -= b|a = a - b|\n",
    "|a \\*= b|a = a \\* b|\n",
    "|a /= b|a = a / b|\n",
    "|a //= b|a = a // b|\n",
    "|a %= b|a = a % b|\n",
    "|a \\*\\*= b|a = a ** b|"
   ]
  },
  {
   "cell_type": "markdown",
   "metadata": {},
   "source": [
    "## 기타 연산자\n",
    "\n",
    "### Concatenation\n",
    "\n",
    "숫자가 아닌 자료형은 `+` 연산자를 통해 합칠 수 있다.\n",
    "\n",
    "### Containment Test\n",
    "\n",
    "`in` 연산자를 통해 속해있는지 여부를 확인할 수 있다.\n",
    "\n",
    "### Identity\n",
    "\n",
    "`is` 연산자를 통해 동일한 object인지 확인할 수 있다. \n",
    "\n",
    "\n",
    "(나중에 Class를 배우고 다시 학습)\n",
    "\n",
    "### Indexing/Slicing\n",
    "`[]`를 통한 값 접근 및 `[:]`을 통한 슬라이싱 \n",
    "\n",
    "(다음 챕터를 배우면서 추가 학습)"
   ]
  },
  {
   "cell_type": "code",
   "execution_count": 11,
   "metadata": {},
   "outputs": [
    {
     "name": "stdout",
     "output_type": "stream",
     "text": [
      "[1, 2, 3]\n",
      "[5, 4, 3, 2, 1]\n",
      "[1, 3, 5]\n"
     ]
    }
   ],
   "source": [
    "l = [ 1, 2, 3, 4, 5 ]\n",
    "#[ ^, 1, 2, 3, ^ 4, 5 ]라고 쉼표기준으로 순서를 생각하면 이해하기 쉬움.\n",
    "print(l[0:3]) #[1, 2, 3]\n",
    "print(l[::-1]) #얕은 복사 [5, 4, 3, 2, 1] \n",
    "#index넘어가면 오류없이 마지막까지만 잡음 \n",
    "print(l[::2]) #[1, 3, 5]\n",
    "\n",
    "print('hi ' + '2019') #'hi 2019'\n",
    "print([1] + [2, 3]) #[1, 2, 3]"
   ]
  },
  {
   "cell_type": "code",
   "execution_count": null,
   "metadata": {},
   "outputs": [],
   "source": [
    "print([1, 2, 3][0])\n",
    "print(('a', 'b', 'c')[1])\n",
    "print('apple'[4])\n",
    "print({1, 2, 3}[0]) #set은 주머니안에 있는 것. 순서가 없어서 인덱싱 안됨"
   ]
  },
  {
   "cell_type": "markdown",
   "metadata": {},
   "source": [
    "## 연산자 우선순위\n",
    "\n",
    "0. `()`을 통한 grouping\n",
    "\n",
    "1. Slicing\n",
    "\n",
    "2. Indexing\n",
    "\n",
    "3. 제곱연산자\n",
    "    \\*\\*\n",
    "\n",
    "4. 단항연산자 \n",
    "    +, - (음수/양수 부호)\n",
    "\n",
    "5. 산술연산자\n",
    "    \\*, /, %\n",
    "    \n",
    "6. 산술연산자\n",
    "    +, -\n",
    " \n",
    "7. 비교연산자, `in`, `is`\n",
    "\n",
    "8. `not`\n",
    "\n",
    "9. `and` \n",
    "\n",
    "10. `or`"
   ]
  },
  {
   "cell_type": "markdown",
   "metadata": {},
   "source": [
    "# 기초 형변환(Type conversion, Typecasting)\n",
    "\n",
    "\n",
    "파이썬에서 데이터타입은 서로 변환할 수 있다.\n",
    "\n",
    "## 암시적 형변환(Implicit Type Conversion)\n",
    "사용자가 의도하지 않았지만, 파이썬 내부적으로 자동으로 형변환 하는 경우이다.\n",
    "아래의 상황에서만 가능하다.\n",
    "* bool\n",
    "* Numbers (int, float, complex)"
   ]
  },
  {
   "cell_type": "code",
   "execution_count": null,
   "metadata": {},
   "outputs": [],
   "source": [
    "True + 3 #True를 1로 자동으로 형변환하여 계산 => 4`"
   ]
  },
  {
   "cell_type": "markdown",
   "metadata": {},
   "source": [
    "## 명시적 형변환(Explicit Type Conversion)\n",
    "\n",
    "위의 상황을 제외하고는 모두 명시적으로 형 변환을 해주어야한다.\n",
    "\n",
    "* string -> intger  : 형식에 맞는 숫자만 가능\n",
    "* integer -> string : 모두 가능\n",
    "\n",
    "암시적 형변환이 되는 모든 경우도 명시적으로 형변환이 가능하다.\n",
    "\n",
    "* `int()` : string, float를 int로 변환\n",
    "* `float()` : string, int를 float로 변환\n",
    "* `str()` : int, float, list, tuple, dictionary를 문자열로 변환\n",
    "\n",
    "`list(), tuple()` 등은 다음 챕터에서 배울 예정이다."
   ]
  },
  {
   "cell_type": "code",
   "execution_count": null,
   "metadata": {},
   "outputs": [],
   "source": [
    "# integer와 string 사이의 관계는 명시적으로 형변환을 해줘야만 한다.\n",
    "str(1) + '등'\n",
    "int('1')\n",
    "type(int('1'))\n",
    "\n",
    "int('10.0') #형식이 달라 안됨\n",
    "\n",
    "# string은 글씨가 숫자일때만 형변환이 가능하다.\n",
    "# string 3.5를 int로 변환할 수는 없다.\n",
    "\n",
    "# float 3.5는 int로 변환이 가능하다.\n",
    "int(3.5) #소숫점 이하 버림!"
   ]
  },
  {
   "cell_type": "markdown",
   "metadata": {},
   "source": [
    " # 시퀀스(sequence) 자료형\n",
    "\n",
    "`시퀀스`는 데이터의 순서대로 나열된 형식을 나타낸다. \n",
    "\n",
    "**주의! 순서대로 나열된 것이 정렬되었다라는 뜻은 아니다.**\n",
    "\n",
    "파이썬에서 기본적인 시퀀스 타입은 다음과 같다.\n",
    "\n",
    "1. 리스트(list)\n",
    "\n",
    "2. 튜플(tuple)\n",
    "\n",
    "3. 레인지(range)\n",
    "\n",
    "4. 문자열(string)\n",
    "\n",
    "5. 바이너리(binary) : 따로 다루지는 않습니다.\n"
   ]
  },
  {
   "cell_type": "markdown",
   "metadata": {},
   "source": [
    "## `list`\n",
    "\n",
    "**활용법**\n",
    "```python\n",
    "[value1, value2, value3]\n",
    "```\n",
    "\n",
    "리스트는 대괄호`[]` 를 통해 만들 수 있습니다.\n",
    "\n",
    "값에 대한 접근은 `list[i]`를 통해 합니다.\n",
    "\n",
    "* 크기에 제한 없음. 0개 이상의 값이 ,로 구분되어 들어갈 수 있다"
   ]
  },
  {
   "cell_type": "markdown",
   "metadata": {},
   "source": [
    "## `tuple`\n",
    "\n",
    "**활용법**\n",
    "```python\n",
    "(value1, value2)\n",
    "```\n",
    "\n",
    "튜플은 리스트와 유사하지만, `()`로 묶어서 표현합니다.\n",
    "\n",
    "그리고 tuple은 수정 불가능(immutable)하고, 읽을 수 밖에 없습니다.\n",
    "\n",
    "직접 사용하는 것보다는 파이썬 내부에서 사용하고 있습니다."
   ]
  },
  {
   "cell_type": "code",
   "execution_count": 12,
   "metadata": {},
   "outputs": [
    {
     "name": "stdout",
     "output_type": "stream",
     "text": [
      "<class 'tuple'>\n",
      "<class 'tuple'>\n",
      "1 2\n"
     ]
    }
   ],
   "source": [
    "# Tuple 확인\n",
    "my_tuple = (1, 2, 3)\n",
    "print(type(my_tuple))\n",
    "\n",
    "# 아래와 같이 만들 수 있습니다.\n",
    "is_tuple = 'a', 'b' #괄호를 생략 가능?!\n",
    "a, b = 1, 2\n",
    "print(type(is_tuple))\n",
    "#tuple은 값을 추가하거나 빼지 못한다. 수정 안됨. 덮어쓰는 것 가능.\n",
    "\n",
    "# 파이썬 내부에서는 다음과 같이 활용됩니다.\n",
    "# 앞선 2. 변수 및 자료형 예제에서 사용된 코드입니다.\n",
    "x, y = 1, 2\n",
    "print(x, y)"
   ]
  },
  {
   "cell_type": "markdown",
   "metadata": {},
   "source": [
    "##  `range()`\n",
    "\n",
    "레인지는 숫자의 시퀀스를 나타내기 위해 사용됩니다.\n",
    "\n",
    "기본형 : `range(n)` \n",
    "\n",
    "\n",
    "> 0부터 n-1까지 값을 가짐\n",
    "\n",
    "\n",
    "범위 지정 : `range(n, m)` \n",
    "\n",
    "> n부터 m-1까지 값을 가짐\n",
    "\n",
    "범위 및 스텝 지정 : `range(n, m, s)`\n",
    "\n",
    "> n부터 m-1까지 +s만큼 증가한다"
   ]
  },
  {
   "cell_type": "code",
   "execution_count": null,
   "metadata": {},
   "outputs": [],
   "source": [
    "list(range(5, 15))\n",
    "list(range(-10, -20)) #앞이 더 작은 수이기 때문에 불가능\n",
    "list(range(0, 100, 5)) #0부터 100까지 5의 배수"
   ]
  },
  {
   "cell_type": "markdown",
   "metadata": {},
   "source": [
    "\n",
    "## 시퀀스에서 활용할 수 있는 연산자/함수 \n",
    "\n",
    "|operation|설명|\n",
    "|---------|---|\n",
    "|x in s\t|containment test|\n",
    "|x not in s|containment test|\n",
    "|s1 + s2|concatenation|\n",
    "|s * n|n번만큼 반복하여 더하기\n",
    "|s[i]|indexing|\n",
    "|s[i:j]|slicing|\n",
    "|s[i:j:k]|k간격으로 slicing|\n",
    "|len(s)|길이|\n",
    "|min(s)|최솟값|\n",
    "|max(s)|최댓값|\n",
    "|s.count(x)|x의 갯수|"
   ]
  },
  {
   "cell_type": "code",
   "execution_count": null,
   "metadata": {},
   "outputs": [],
   "source": [
    "# contain test\n",
    "string = 'my string'\n",
    "print('y' in string)\n",
    "l = [1, 2, 3]\n",
    "print(1 in l)\n",
    "print(2 not in l)"
   ]
  },
  {
   "cell_type": "code",
   "execution_count": null,
   "metadata": {},
   "outputs": [],
   "source": [
    "# concatenation\n",
    "print('happy' + 'hacking')\n",
    "print(['a', 'p', 'p'] + ['l', 'e'])"
   ]
  },
  {
   "cell_type": "code",
   "execution_count": null,
   "metadata": {},
   "outputs": [],
   "source": [
    "# indexing과 slicing\n",
    "names = ['강진우', '고재두', '곽동령', '권성령', '권택건']\n",
    "ca = names[0]\n",
    "print(ca)"
   ]
  },
  {
   "cell_type": "code",
   "execution_count": null,
   "metadata": {},
   "outputs": [],
   "source": [
    "r = range(30)\n",
    "r = r[0:len(r):3]\n",
    "\n",
    "# 기타 내장함수\n",
    "list(r)[1:]"
   ]
  },
  {
   "cell_type": "code",
   "execution_count": null,
   "metadata": {},
   "outputs": [],
   "source": [
    "li = [1, 2, 3, 4, 5, 6, 7]\n",
    "li.count(5) #5인 값이 몇 개?"
   ]
  },
  {
   "cell_type": "markdown",
   "metadata": {},
   "source": [
    "# set, dictionary\n",
    "\n",
    "* `set`과 `dictionary`는 기본적으로 순서가 없습니다."
   ]
  },
  {
   "cell_type": "markdown",
   "metadata": {},
   "source": [
    "## `set`\n",
    "\n",
    "세트는 수학에서의 집합과 동일하게 처리됩니다. \n",
    "\n",
    "세트는 중괄호`{}`를 통해 만들며, 순서가 없고 중복된 값이 없습니다.\n",
    "\n",
    "**활용법**\n",
    "```python\n",
    "{value1, value2, value3}\n",
    "```\n",
    "\n",
    "|연산자/함수|설명|\n",
    "|---|---|\n",
    "|a - b|차집합|\n",
    "|a \\| b|합집합|\n",
    "|a & b|교집합|\n",
    "|a.union(b)|교집합|\n",
    "|a.intersection(b)|교집합|\n",
    "\n",
    "* `set`을 활용하면 `list`의 중복된 값을 손쉽게 제거할 수 있습니다."
   ]
  },
  {
   "cell_type": "code",
   "execution_count": null,
   "metadata": {},
   "outputs": [],
   "source": [
    "my_numbers = {1, 2, 3, 4, 5, 6, 1, 2} #순서가 없음. 중복값 있으면 안됨. 중복값 알아서 삭제됨. \n",
    "lotto = {1, 2, 4, 5, 8, 9}\n",
    "print(my_numbers & lotto) #{1, 2, 4, 5}"
   ]
  },
  {
   "cell_type": "markdown",
   "metadata": {},
   "source": [
    "## `dictionary`\n",
    "\n",
    "**활용법**\n",
    "```python\n",
    "{Key1:Value1, Key2:Value2, Key3:Value3, ...}\n",
    "```\n",
    "\n",
    "* 딕셔너리는 `key`와 `value`가 쌍으로 이뤄져있으며, 궁극의 자료구조입니다. \n",
    "* `{}`를 통해 만들며, `dict()`로 만들 수도 있습니다.\n",
    "* `key`는 immutable한 모든 것이 가능하다. (불변값 : string, integer, float, boolean, tuple, range)\n",
    "* `value`는 `list`, `dictionary`를 포함한 모든 것이 가능하다."
   ]
  },
  {
   "cell_type": "code",
   "execution_count": 13,
   "metadata": {},
   "outputs": [
    {
     "name": "stdout",
     "output_type": "stream",
     "text": [
      "{1: 2, 2: 1, 3: 2}\n"
     ]
    }
   ],
   "source": [
    "# 중복된 key는 존재할 수가 없습니다.\n",
    "my_dict = { 1: 1, 1: 2, 2: 1, 3: 2 } #value는 중복되든 상관없음\n",
    "print(my_dict) #{1: 2, 2: 1, 3: 2}"
   ]
  },
  {
   "cell_type": "code",
   "execution_count": null,
   "metadata": {},
   "outputs": [],
   "source": [
    "# 딕셔너리의 메소드를 활용하여 key와 value를 확인 해볼 수 있습니다.\n",
    "ss3.keys()\n",
    "ss3.values()"
   ]
  },
  {
   "cell_type": "markdown",
   "metadata": {},
   "source": [
    "# 정리\n",
    "## 데이터 타입\n",
    "\n",
    ">Container =>\n",
    "* sequence(ordered)<br>\n",
    "'string', [list], (tuple), range()\n",
    "* unordered<br>\n",
    "{set}, {dictionary: }\n",
    "<br>\n",
    "* immutable <br>\n",
    "'string', '(tuple), range()\n",
    "* mutable <br>\n",
    "[list], {set}, {dictionary: }\n",
    "\n"
   ]
  },
  {
   "cell_type": "code",
   "execution_count": 14,
   "metadata": {},
   "outputs": [
    {
     "name": "stdout",
     "output_type": "stream",
     "text": [
      "S\n",
      "1\n",
      "1\n",
      "6\n"
     ]
    },
    {
     "ename": "KeyError",
     "evalue": "0",
     "output_type": "error",
     "traceback": [
      "\u001b[1;31m---------------------------------------------------------------------------\u001b[0m",
      "\u001b[1;31mKeyError\u001b[0m                                  Traceback (most recent call last)",
      "\u001b[1;32m<ipython-input-14-b3727089c970>\u001b[0m in \u001b[0;36m<module>\u001b[1;34m\u001b[0m\n\u001b[0;32m      5\u001b[0m \u001b[0mprint\u001b[0m\u001b[1;33m(\u001b[0m\u001b[0mrange\u001b[0m\u001b[1;33m(\u001b[0m\u001b[1;36m1\u001b[0m\u001b[1;33m,\u001b[0m \u001b[1;36m10\u001b[0m\u001b[1;33m)\u001b[0m\u001b[1;33m[\u001b[0m\u001b[1;36m5\u001b[0m\u001b[1;33m]\u001b[0m\u001b[1;33m)\u001b[0m\u001b[1;33m\u001b[0m\u001b[1;33m\u001b[0m\u001b[0m\n\u001b[0;32m      6\u001b[0m \u001b[1;33m\u001b[0m\u001b[0m\n\u001b[1;32m----> 7\u001b[1;33m \u001b[0mprint\u001b[0m\u001b[1;33m(\u001b[0m\u001b[1;33m{\u001b[0m\u001b[1;34m'a'\u001b[0m\u001b[1;33m:\u001b[0m\u001b[1;36m1\u001b[0m\u001b[1;33m,\u001b[0m \u001b[1;34m'b'\u001b[0m\u001b[1;33m:\u001b[0m\u001b[1;36m2\u001b[0m\u001b[1;33m}\u001b[0m\u001b[1;33m[\u001b[0m\u001b[1;36m0\u001b[0m\u001b[1;33m]\u001b[0m\u001b[1;33m)\u001b[0m\u001b[1;33m\u001b[0m\u001b[1;33m\u001b[0m\u001b[0m\n\u001b[0m\u001b[0;32m      8\u001b[0m \u001b[0mprint\u001b[0m\u001b[1;33m(\u001b[0m\u001b[1;33m{\u001b[0m\u001b[1;34m'a'\u001b[0m\u001b[1;33m,\u001b[0m \u001b[1;34m'b'\u001b[0m\u001b[1;33m,\u001b[0m \u001b[1;34m'c'\u001b[0m\u001b[1;33m}\u001b[0m\u001b[1;33m[\u001b[0m\u001b[1;36m0\u001b[0m\u001b[1;33m]\u001b[0m\u001b[1;33m)\u001b[0m\u001b[1;33m\u001b[0m\u001b[1;33m\u001b[0m\u001b[0m\n",
      "\u001b[1;31mKeyError\u001b[0m: 0"
     ]
    }
   ],
   "source": [
    "#Seq / Unordered\n",
    "print('String'[0])\n",
    "print([1, 2, 3][0])\n",
    "print((1, 2, 3)[0])\n",
    "print(range(1, 10)[5])\n",
    "\n",
    "print({'a':1, 'b':2}[0])\n",
    "print({'a', 'b', 'c'}[0])"
   ]
  },
  {
   "cell_type": "code",
   "execution_count": 15,
   "metadata": {},
   "outputs": [
    {
     "name": "stdout",
     "output_type": "stream",
     "text": [
      "Pythoff\n",
      "Python\n",
      "[4, 2]\n",
      "{1, 3, 5, 7}\n",
      "{'a': 1, 'b': 10}\n"
     ]
    }
   ],
   "source": [
    "#immutable\n",
    "s = 'Python'\n",
    "s.replace('on', 'off')\n",
    "print(s.replace('on', 'off'))\n",
    "print(s) # 'Python' 원본 안바뀌니 return값이 있을 수 밖에 없음\n",
    "\n",
    "#mutable\n",
    "l = [1, 2, 3]\n",
    "l[0] = 4\n",
    "l.pop()\n",
    "print(l)\n",
    "\n",
    "#immutable\n",
    "t = (3, 2, 1)\n",
    "\n",
    "#immutable\n",
    "r = range(1, 10)\n",
    "\n",
    "#mutable\n",
    "st = {1, 3, 5}\n",
    "st.add(7)\n",
    "print(st)\n",
    "\n",
    "#immutable\n",
    "d = {'a':1, 'b':2}\n",
    "d['b']=10\n",
    "print(d)\n",
    "#python 3.7버전부터는 딕셔너리에 인덱스 접근은 안되지만 순서는 있는 것으로 공식 인정함"
   ]
  }
 ],
 "metadata": {
  "kernelspec": {
   "display_name": "Python 3",
   "language": "python",
   "name": "python3"
  },
  "language_info": {
   "codemirror_mode": {
    "name": "ipython",
    "version": 3
   },
   "file_extension": ".py",
   "mimetype": "text/x-python",
   "name": "python",
   "nbconvert_exporter": "python",
   "pygments_lexer": "ipython3",
   "version": "3.7.1"
  }
 },
 "nbformat": 4,
 "nbformat_minor": 2
}
