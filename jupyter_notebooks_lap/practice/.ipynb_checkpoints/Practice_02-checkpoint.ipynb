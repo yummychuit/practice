{
 "cells": [
  {
   "cell_type": "code",
   "execution_count": 3,
   "metadata": {},
   "outputs": [
    {
     "name": "stdout",
     "output_type": "stream",
     "text": [
      "서울 -3.67\n",
      "서울: -3.67\n",
      "서울: -3.67\n",
      "대전 -2.0\n",
      "대전: -2.0\n",
      "대전: -2.0\n",
      "광주 1.67\n",
      "광주: 1.67\n",
      "광주: 1.67\n",
      "구미 3.0\n",
      "구미: 3.0\n",
      "구미: 3.0\n"
     ]
    }
   ],
   "source": [
    "cities_temp = {\n",
    "    '서울': [-6, -10, 5],\n",
    "    '대전': [-3, -5, 2],\n",
    "    '광주': [0, -5, 10],\n",
    "    '구미': [2, -2, 9]\n",
    "}\n",
    "\n",
    "\n",
    "for city in cities_temp: #for문의 변수?는 키값만 가져옴\n",
    "    temperatures = cities_temp[city] #그래서 value 가져오기 위해 처리\n",
    "    avg_temp = round(sum(temperatures) / len(temperatures), 2)\n",
    "    print(city, avg_temp)\n",
    "\n",
    "    print(city + ': ' + str(avg_temp)) # \n",
    "\n",
    "    print('{0}: {1}'.format(city, avg_temp))\n",
    "    #str과 함께 써놓은 명령어를 str 말고 명령어로 처리해줘!"
   ]
  },
  {
   "cell_type": "code",
   "execution_count": 4,
   "metadata": {},
   "outputs": [
    {
     "name": "stdout",
     "output_type": "stream",
     "text": [
      "[-6, -10, 5, -3, -5, 2, 0, -5, 10, 2, -2, 9]\n",
      "10 -10\n",
      "['광주'] ['서울']\n"
     ]
    }
   ],
   "source": [
    "cities_temp = {\n",
    "    '서울': [-6, -10, 5],\n",
    "    '대전': [-3, -5, 2],\n",
    "    '광주': [0, -5, 10],\n",
    "    '구미': [2, -2, 9]\n",
    "}\n",
    "\n",
    "all_temp = []\n",
    "for key, value in cities_temp.items():\n",
    "    all_temp += value\n",
    "\n",
    "print(all_temp)\n",
    "\n",
    "# all_temp에서 highest/lowest를 찾는다\n",
    "highest = max(all_temp)\n",
    "lowest = min(all_temp)\n",
    "print(highest, lowest)\n",
    "\n",
    "# cities_temp에서 highest/lowest가 속한 도시를 찾는다.\n",
    "hottest = [ ] #dic나 list로 결과가 나오는 것이 좋음. \n",
    "coldest = [ ]\n",
    "for key, value in cities_temp.items(): #서울: [-6, -10, 5]  highest = 10, lowest = -10\n",
    "    if highest in value:\n",
    "        hottest.append(key)\n",
    "    if lowest in value:\n",
    "        coldest.append(key)\n",
    "\n",
    "# Hottest: ?? , Coldest: ??\n",
    "print(hottest, coldest) "
   ]
  },
  {
   "cell_type": "code",
   "execution_count": 5,
   "metadata": {},
   "outputs": [
    {
     "name": "stdout",
     "output_type": "stream",
     "text": [
      "__main__\n",
      "평균:  80.5\n",
      "27\n"
     ]
    }
   ],
   "source": [
    "#파일명 math_function\n",
    "\n",
    "print(__name__)\n",
    "\n",
    "def average(numbers):\n",
    "    return sum(numbers) / len(numbers)\n",
    "\n",
    "def cube(x):\n",
    "    return x * x * x\n",
    "\n",
    "\n",
    "def main():\n",
    "    my_score = [79, 84, 66, 93]\n",
    "    print('평균: ', average(my_score))\n",
    "    print(cube(3))\n",
    "\n",
    "#↑↓ 같은 내용\n",
    "\n",
    "if __name__ == '__main__':\n",
    "    my_score = [79, 84, 66, 93]\n",
    "    print('평균: ', average(my_score))\n",
    "    print(cube(3))"
   ]
  },
  {
   "cell_type": "code",
   "execution_count": 6,
   "metadata": {
    "scrolled": true
   },
   "outputs": [
    {
     "name": "stdout",
     "output_type": "stream",
     "text": [
      "! __main__\n"
     ]
    },
    {
     "ename": "ModuleNotFoundError",
     "evalue": "No module named 'math_functions'",
     "output_type": "error",
     "traceback": [
      "\u001b[1;31m---------------------------------------------------------------------------\u001b[0m",
      "\u001b[1;31mModuleNotFoundError\u001b[0m                       Traceback (most recent call last)",
      "\u001b[1;32m<ipython-input-6-e0794bfb09b9>\u001b[0m in \u001b[0;36m<module>\u001b[1;34m\u001b[0m\n\u001b[0;32m      7\u001b[0m \u001b[1;31m# math_functions.average([10, 20, 30])\u001b[0m\u001b[1;33m\u001b[0m\u001b[1;33m\u001b[0m\u001b[1;33m\u001b[0m\u001b[0m\n\u001b[0;32m      8\u001b[0m \u001b[1;33m\u001b[0m\u001b[0m\n\u001b[1;32m----> 9\u001b[1;33m \u001b[1;32mfrom\u001b[0m \u001b[0mmath_functions\u001b[0m \u001b[1;32mimport\u001b[0m \u001b[0mcube\u001b[0m\u001b[1;33m,\u001b[0m \u001b[0maverage\u001b[0m\u001b[1;33m\u001b[0m\u001b[1;33m\u001b[0m\u001b[0m\n\u001b[0m\u001b[0;32m     10\u001b[0m \u001b[1;31m#math_functions라는 파일에서 정의한 cube와 average라는 함수 불러서 import\u001b[0m\u001b[1;33m\u001b[0m\u001b[1;33m\u001b[0m\u001b[1;33m\u001b[0m\u001b[0m\n\u001b[0;32m     11\u001b[0m \u001b[1;31m#import math_functions라고 해도 되지만 필요한 함수만 불러올 수 있음\u001b[0m\u001b[1;33m\u001b[0m\u001b[1;33m\u001b[0m\u001b[1;33m\u001b[0m\u001b[0m\n",
      "\u001b[1;31mModuleNotFoundError\u001b[0m: No module named 'math_functions'"
     ]
    }
   ],
   "source": [
    "#파일명 do_math\n",
    "\n",
    "print('!', __name__)\n",
    "\n",
    "# import math_functions\n",
    "# math_functions.cube(5)\n",
    "# math_functions.average([10, 20, 30])\n",
    "\n",
    "from math_functions import cube, average\n",
    "#math_functions라는 파일에서 정의한 cube와 average라는 함수 불러서 import\n",
    "#import math_functions라고 해도 되지만 필요한 함수만 불러올 수 있음\n",
    "\n",
    "print(cube(5))\n",
    "print(average([10, 20, 30]))"
   ]
  },
  {
   "cell_type": "code",
   "execution_count": 9,
   "metadata": {},
   "outputs": [
    {
     "name": "stdout",
     "output_type": "stream",
     "text": [
      "2\n",
      "1\n"
     ]
    }
   ],
   "source": [
    "a = 1\n",
    "b = 2\n",
    "\n",
    "tmp = a\n",
    "a = b\n",
    "b = tmp\n",
    "\n",
    "print(a)\n",
    "print(b)"
   ]
  },
  {
   "cell_type": "code",
   "execution_count": 10,
   "metadata": {},
   "outputs": [
    {
     "name": "stdout",
     "output_type": "stream",
     "text": [
      "2\n",
      "1\n"
     ]
    }
   ],
   "source": [
    "a = 1\n",
    "b = 2\n",
    "\n",
    "a = a + b\n",
    "b = a - b\n",
    "a = a - b\n",
    "\n",
    "print(a)\n",
    "print(b)"
   ]
  },
  {
   "cell_type": "code",
   "execution_count": 11,
   "metadata": {},
   "outputs": [
    {
     "name": "stdout",
     "output_type": "stream",
     "text": [
      "9223372036854775807\n",
      "85070591730234615847396907784232501249\n"
     ]
    }
   ],
   "source": [
    "import sys\n",
    "max_int = sys.maxsize\n",
    "print(max_int)\n",
    "max_int = sys.maxsize * sys.maxsize\n",
    "print(max_int)"
   ]
  },
  {
   "cell_type": "code",
   "execution_count": 13,
   "metadata": {},
   "outputs": [
    {
     "name": "stdout",
     "output_type": "stream",
     "text": [
      "-4.0\n",
      "3.0\n",
      "(3+4j)\n",
      "(25+0j)\n"
     ]
    }
   ],
   "source": [
    "a = 3 - 4j\n",
    "type(a)\n",
    "\n",
    "print(a.imag)\n",
    "print(a.real) #실수 부분\n",
    "print(a.conjugate())\n",
    "print(a.conjugate() * a)"
   ]
  },
  {
   "cell_type": "code",
   "execution_count": 15,
   "metadata": {},
   "outputs": [
    {
     "name": "stdout",
     "output_type": "stream",
     "text": [
      "\n",
      "말하는대로,\n",
      "쓰는대로, \n",
      "다 써져요!\n",
      "\n"
     ]
    }
   ],
   "source": [
    "print(\"\"\"\n",
    "말하는대로,\n",
    "쓰는대로, \n",
    "다 써져요!\n",
    "\"\"\")"
   ]
  },
  {
   "cell_type": "code",
   "execution_count": 17,
   "metadata": {},
   "outputs": [
    {
     "data": {
      "text/plain": [
       "'원주율은 3.14, 반지름 2인 원의 넓이는 12.566370614'"
      ]
     },
     "execution_count": 17,
     "metadata": {},
     "output_type": "execute_result"
    }
   ],
   "source": [
    "pi = 3.1415926535\n",
    "r = 2\n",
    "f'원주율은 {pi:0.3}, 반지름 {r}인 원의 넓이는 {pi * r ** 2}' #연산도 가능\n"
   ]
  }
 ],
 "metadata": {
  "kernelspec": {
   "display_name": "Python 3",
   "language": "python",
   "name": "python3"
  },
  "language_info": {
   "codemirror_mode": {
    "name": "ipython",
    "version": 3
   },
   "file_extension": ".py",
   "mimetype": "text/x-python",
   "name": "python",
   "nbconvert_exporter": "python",
   "pygments_lexer": "ipython3",
   "version": "3.7.1"
  }
 },
 "nbformat": 4,
 "nbformat_minor": 2
}
