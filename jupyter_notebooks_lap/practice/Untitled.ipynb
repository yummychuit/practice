{
 "cells": [
  {
   "cell_type": "markdown",
   "metadata": {},
   "source": [
    "### 환율"
   ]
  },
  {
   "cell_type": "code",
   "execution_count": null,
   "metadata": {},
   "outputs": [],
   "source": [
    "import requests\n",
    "from bs4 import BeautifulSoup\n",
    "\n",
    "url = 'https://finance.naver.com/marketindex/'\n",
    "\n",
    "response = requests.get(url).text\n",
    "soup = BeautifulSoup(response, 'html.parser')\n",
    "#soup이라는 객체가 파싱 결과를 담고있음\n",
    "data_set = soup.select('.value')\n",
    "#환율정보가 담긴 value class만 가져옴\n",
    "data = data_set[1].text\n",
    "\n",
    "print(\"JPY\")\n",
    "print(data)"
   ]
  },
  {
   "cell_type": "code",
   "execution_count": null,
   "metadata": {},
   "outputs": [],
   "source": [
    "#\n",
    "import requests\n",
    "from bs4 import BeautifulSoup\n",
    "\n",
    "url = 'https://finance.naver.com/marketindex/'\n",
    "\n",
    "response = requests.get(url).text\n",
    "#url로 get request를 보내 response를 받음\n",
    "soup = BeautifulSoup(response, 'html.parser')\n",
    "\n",
    "data_set = soup.select('.value')\n",
    "data = data_set[1].text\n",
    "\n",
    "print(\"JPY\")\n",
    "print(data)\n",
    "\n",
    "# 요청을 했을 때 우리가 인지하고 있는 그 딕셔너리의 구조를 유지하면서 문자열로 바꿔서 받기 위해 json 모듈을 사용."
   ]
  },
  {
   "cell_type": "markdown",
   "metadata": {},
   "source": [
    "### get lotto"
   ]
  },
  {
   "cell_type": "code",
   "execution_count": null,
   "metadata": {},
   "outputs": [],
   "source": [
    "import requests\n",
    "\n",
    "url = 'https://www.dhlottery.co.kr/common.do?method=getLottoNumber&drwNo=837'\n",
    "\n",
    "response = requests.get(url)\n",
    "response.text # 이건 class가 str임\n",
    "response.json() # 이게 dict임 이걸 data라고 부름\n",
    "lotto_data = response.json()\n",
    "\n",
    "real_numbers = []\n",
    "\n",
    "for key, value in lotto_data.items():\n",
    "if 'drwtNo' in key:\n",
    "real_numbers.appent(value)\n",
    "\n",
    "print(sorted(real_numbers))\n",
    "bonus_number = lotto_data['bnusNo']"
   ]
  },
  {
   "cell_type": "code",
   "execution_count": null,
   "metadata": {},
   "outputs": [],
   "source": [
    "#풀이\n"
   ]
  }
 ],
 "metadata": {
  "kernelspec": {
   "display_name": "Python 3",
   "language": "python",
   "name": "python3"
  },
  "language_info": {
   "codemirror_mode": {
    "name": "ipython",
    "version": 3
   },
   "file_extension": ".py",
   "mimetype": "text/x-python",
   "name": "python",
   "nbconvert_exporter": "python",
   "pygments_lexer": "ipython3",
   "version": "3.7.1"
  }
 },
 "nbformat": 4,
 "nbformat_minor": 2
}
