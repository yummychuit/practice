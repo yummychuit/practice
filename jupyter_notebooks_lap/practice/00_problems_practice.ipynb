{
 "cells": [
  {
   "cell_type": "markdown",
   "metadata": {},
   "source": [
    "#### 190108"
   ]
  },
  {
   "cell_type": "markdown",
   "metadata": {},
   "source": [
    "# 1. 이상한 덧셈\n",
    "> 숫자로 구성된 리스트에서 양의 정수의 합을 구하는 함수, positive_sum을 만들어 보아요\n",
    "\n",
    "예시)\n",
    "\n",
    "positive_sum([1, -10, 2]) # 3 <br>\n",
    "positive_sum([-1, -2, -3, -4]) # 0"
   ]
  },
  {
   "cell_type": "code",
   "execution_count": null,
   "metadata": {},
   "outputs": [],
   "source": []
  },
  {
   "cell_type": "markdown",
   "metadata": {},
   "source": [
    "# 2. 문자열 탐색\n",
    "> 문자열 요소로만 이루어진 리스트를 넣었을 때, 문자열의 길이가 2 이상이고 주어진 문자열의 첫 번째와 마지막 문자가 같은 문자열의 수를 세는 함수 start_end 를 작성하세요\n",
    "\n",
    "예시)\n",
    "\n",
    "start_end(['level', 'asdwe', 's', 'abadsfa', 'qiq']) <br>\n",
    "start_end(keywords) # 3"
   ]
  },
  {
   "cell_type": "code",
   "execution_count": null,
   "metadata": {},
   "outputs": [],
   "source": []
  },
  {
   "cell_type": "markdown",
   "metadata": {},
   "source": [
    "# 3. Collatz\n",
    "> Collatz 추측: 어떤 자연수 n 이든지, 다음과 같은 작업을 반복하면 1로 만들 수 있다.<br><br>\n",
    "1. n이 짝수라면 2로 나눈다.<br>\n",
    "2. n이 홀수라면 3을 곱하고 1을 더한다.<br>\n",
    "3. 결과로 나온 수에 1 / 2 의 작업을 1이 될 때까지 반복한다.<br>\n",
    "<br>\n",
    "예를 들어 n이 6이면, 6 => 3 => 10 => 5 => 16 => 8 => 4 => 2 => 1 이 되며 8번(=>갯수!)만에 1이 됩니다. 자연수 n이 들어왔을 때, 몇 번의 작업만에 1이 되는지를 return하는 함수 collatz()를 완성하세요.<br>\n",
    "<br>\n",
    "단! 500번을 넘어가도 1이 되지 않는다면, -1을 return할게요!\n",
    "\n",
    "\n",
    "```\n",
    "예시)\n",
    "\n",
    "collatz(6) # 8\n",
    "collatz(16) # 4\n",
    "collatz(626331) #-1\n",
    "```"
   ]
  },
  {
   "cell_type": "code",
   "execution_count": null,
   "metadata": {},
   "outputs": [],
   "source": []
  },
  {
   "cell_type": "markdown",
   "metadata": {},
   "source": [
    "# 4. 솔로천국\n",
    "> 리스트가 주어질 때, 리스트의 요소 e는 range(0, 10)에 포함하는 자연수이다. 리스트에서 연속적으로 나타나는 숫자는 하나만 남기고 전부 제거하여 return하는 함수 lonely()를 작성해 보세요. 이때! 제거된 후 남은 수들을 반환할 때는 리스트의 요소들이 순서를 유지해야 합니다!\n",
    "\n",
    "예시)\n",
    "\n",
    "lonely([1, 1, 3, 3, 0, 1, 1, 3, 0, 3]) # [1, 3, 0] <br>\n",
    "lonely([4, 4, 3, 3, 3, 4]) # [4, 3]"
   ]
  },
  {
   "cell_type": "code",
   "execution_count": null,
   "metadata": {},
   "outputs": [],
   "source": []
  },
  {
   "cell_type": "markdown",
   "metadata": {},
   "source": [
    "# 5. (HARD) RGB 삼각형\n",
    ">\n",
    "```\n",
    "BG\tRG\tBR\tRR\tGG\tBB\n",
    "R\tB\tG\tR\tG\tB\n",
    "입력으로 'R', 'G', 'B'가 섞여있는 문자열이 들어온다. 문자열은 다음과 같이 합쳐진다. 해당 문자열을 처리하여 마지막 색깔만 return하는 triangle()을 작성하세요.\n",
    "\n",
    "R R G B R G B B\n",
    " R B R G B R B\n",
    "  G G B R G G\n",
    "   G R G B G\n",
    "    B B R R\n",
    "     B G R\n",
    "      R B\n",
    "       G\n",
    "```\n",
    "예시)\n",
    "\n",
    "triangle('RRGBRGBB')#G <br>\n",
    "triangle('GB')#R <br>\n",
    "triangle('B')#B <br>\n",
    "triangle('RGBG')#B "
   ]
  },
  {
   "cell_type": "code",
   "execution_count": null,
   "metadata": {},
   "outputs": [],
   "source": []
  },
  {
   "cell_type": "markdown",
   "metadata": {},
   "source": [
    "# 6. 홀수개를 찾아라\n",
    ">입력으로 list가 한 개 들어옵니다. 이 list에는 1개의 숫자만 홀수개 들어있습니다. 이 1개의 홀수개인 숫자를 return하는 find_odd()를 작성하세요\n",
    "\n",
    "예시)\n",
    "\n",
    "find_odd([1, 1, 2, 2, 3, 3, 3]) #3 <br>\n",
    "find_odd([2, 1, 2]) #1 <br>\n",
    "find_odd([1, 2, 2, 3, 2, 2, 1]) #3"
   ]
  },
  {
   "cell_type": "code",
   "execution_count": null,
   "metadata": {},
   "outputs": [],
   "source": []
  },
  {
   "cell_type": "markdown",
   "metadata": {},
   "source": [
    "#### 190109"
   ]
  },
  {
   "cell_type": "markdown",
   "metadata": {},
   "source": [
    "# 1. Up & Down\n",
    "> 우리가 range(1, 101) 중 하나를 생각한다. 컴퓨터가 절반에 위치한 숫자를 물어보고, 생각한 수보다 크면 1, 작으면 -1, 맞으면 0을 입력한다. 이때 몇번만에 컴퓨터가 맞췄는지 출력하고 프로그램을 끝낸다.\n",
    "\n",
    "예시)\n",
    "\n",
    "숫자를 생각하세요..\n",
    "50\n",
    "\n",
    "> -1\n",
    "\n",
    "25\n",
    "\n",
    "> -1\n",
    "\n",
    "13\n",
    "\n",
    "> -1\n",
    "\n",
    "7\n",
    "\n",
    "> 1\n",
    "\n",
    "10\n",
    "\n",
    "> 1\n",
    "\n",
    "12\n",
    "\n",
    "> 0\n",
    "\n",
    "6번만에 맞혔습니다!\n",
    "\n",
    "\n",
    "```python\n",
    "def guess_up_down(??, ??, ??):\n",
    "    count = 0\n",
    "    print('숫자를 생각하세요..')\n",
    "    n = 100 // 2\n",
    "    print(n)\n",
    "    count += 1\n",
    "    user_feedback = input('작으면 -1, 맞으면 0, 크면 1')\n",
    "\n",
    "    print(f'{count} 번 만에 맞춤!'\n",
    "\n",
    "guess_up_down(??, ??, ??)\n",
    "```\n"
   ]
  },
  {
   "cell_type": "code",
   "execution_count": null,
   "metadata": {},
   "outputs": [],
   "source": []
  },
  {
   "cell_type": "markdown",
   "metadata": {},
   "source": [
    "#### 190110"
   ]
  },
  {
   "cell_type": "markdown",
   "metadata": {},
   "source": [
    "# Hangman\n",
    "> 필요한 함수들!"
   ]
  },
  {
   "cell_type": "code",
   "execution_count": null,
   "metadata": {},
   "outputs": [],
   "source": [
    "# 설명\n",
    "#다 맞으면 True\n",
    "\n",
    "def is_answer(answer, letters):\n",
    "    answer = set(answer)\n",
    "    count = 0\n",
    "    for char in set(letters):\n",
    "        if char in answer:\n",
    "            count += 1\n",
    "    return len(answer) == count\n",
    "    \n",
    "is_answer('apple', ['a', 'p', 'l']) #False"
   ]
  },
  {
   "cell_type": "code",
   "execution_count": 3,
   "metadata": {},
   "outputs": [
    {
     "data": {
      "text/plain": [
       "'app**'"
      ]
     },
     "execution_count": 3,
     "metadata": {},
     "output_type": "execute_result"
    }
   ],
   "source": [
    "# 맞힌 단어 표시\n",
    "def status(answer, letters):\n",
    "    for char in answer:\n",
    "        if char not in letters:\n",
    "            answer = answer.replace(char, '*')\n",
    "    return answer\n",
    "status('apple', ['a', 'p'])"
   ]
  },
  {
   "cell_type": "markdown",
   "metadata": {},
   "source": [
    "## Hangman 로직만들기\n",
    ">위의 코드를 활용하여 hangman(answer)를 만들자! <br>\n",
    "사용자가 답을 맞추거나 시도가 8번을 넘어가면 종료! (8번 가능, 9번째 죽음ㅠㅠ)"
   ]
  },
  {
   "cell_type": "code",
   "execution_count": null,
   "metadata": {},
   "outputs": [],
   "source": []
  }
 ],
 "metadata": {
  "kernelspec": {
   "display_name": "Python 3",
   "language": "python",
   "name": "python3"
  },
  "language_info": {
   "codemirror_mode": {
    "name": "ipython",
    "version": 3
   },
   "file_extension": ".py",
   "mimetype": "text/x-python",
   "name": "python",
   "nbconvert_exporter": "python",
   "pygments_lexer": "ipython3",
   "version": "3.7.1"
  }
 },
 "nbformat": 4,
 "nbformat_minor": 2
}
