{
 "cells": [
  {
   "cell_type": "code",
   "execution_count": 1,
   "metadata": {},
   "outputs": [],
   "source": [
    "mcu = [\n",
    "    ['ironman', 'captain america', 'dr.strange'],\n",
    "    ['xmen', 'deadpool'],\n",
    "    ['spiderman']    \n",
    "]\n",
    "\n",
    "disney = mcu[0]\n",
    "dr_strange = disney[2]\n",
    "dr_strange = mcu[0][2]"
   ]
  },
  {
   "cell_type": "code",
   "execution_count": 3,
   "metadata": {},
   "outputs": [
    {
     "data": {
      "text/plain": [
       "['ironman', 'captain america', 'dr.strange']"
      ]
     },
     "execution_count": 3,
     "metadata": {},
     "output_type": "execute_result"
    }
   ],
   "source": [
    "disney"
   ]
  },
  {
   "cell_type": "code",
   "execution_count": 5,
   "metadata": {},
   "outputs": [
    {
     "data": {
      "text/plain": [
       "'dr.strange'"
      ]
     },
     "execution_count": 5,
     "metadata": {},
     "output_type": "execute_result"
    }
   ],
   "source": [
    "disney[2]"
   ]
  },
  {
   "cell_type": "code",
   "execution_count": 6,
   "metadata": {},
   "outputs": [
    {
     "data": {
      "text/plain": [
       "'dr.strange'"
      ]
     },
     "execution_count": 6,
     "metadata": {},
     "output_type": "execute_result"
    }
   ],
   "source": [
    "mcu[0][2]"
   ]
  },
  {
   "cell_type": "code",
   "execution_count": 8,
   "metadata": {},
   "outputs": [
    {
     "data": {
      "text/plain": [
       "0"
      ]
     },
     "execution_count": 8,
     "metadata": {},
     "output_type": "execute_result"
    }
   ],
   "source": [
    "my_list = [4, 7, 9, 1 ,3, 6]\n",
    "my_list.index(4)"
   ]
  },
  {
   "cell_type": "code",
   "execution_count": 9,
   "metadata": {},
   "outputs": [],
   "source": [
    "dust = 100 # <class: int>\n",
    "language = 'python' # str\n",
    "samsung = ['elec', 'sds', 's1'] # list"
   ]
  },
  {
   "cell_type": "code",
   "execution_count": 12,
   "metadata": {},
   "outputs": [
    {
     "data": {
      "text/plain": [
       "'Python'"
      ]
     },
     "execution_count": 12,
     "metadata": {},
     "output_type": "execute_result"
    }
   ],
   "source": [
    "language.capitalize() #맨 앞글자 대문자로"
   ]
  },
  {
   "cell_type": "code",
   "execution_count": 13,
   "metadata": {},
   "outputs": [
    {
     "data": {
      "text/plain": [
       "'pythoff'"
      ]
     },
     "execution_count": 13,
     "metadata": {},
     "output_type": "execute_result"
    }
   ],
   "source": [
    "language.replace('on', 'off') # on을 off로 바꿔라"
   ]
  },
  {
   "cell_type": "code",
   "execution_count": 14,
   "metadata": {},
   "outputs": [
    {
     "data": {
      "text/plain": [
       "4"
      ]
     },
     "execution_count": 14,
     "metadata": {},
     "output_type": "execute_result"
    }
   ],
   "source": [
    "'python'.index('o')"
   ]
  },
  {
   "cell_type": "code",
   "execution_count": 19,
   "metadata": {},
   "outputs": [
    {
     "data": {
      "text/plain": [
       "1"
      ]
     },
     "execution_count": 19,
     "metadata": {},
     "output_type": "execute_result"
    }
   ],
   "source": [
    "samsung.index('sds')"
   ]
  },
  {
   "cell_type": "code",
   "execution_count": 20,
   "metadata": {},
   "outputs": [
    {
     "data": {
      "text/plain": [
       "1"
      ]
     },
     "execution_count": 20,
     "metadata": {},
     "output_type": "execute_result"
    }
   ],
   "source": [
    "samsung.count('s1') # s1이 몇 개 들어있는가"
   ]
  },
  {
   "cell_type": "code",
   "execution_count": 26,
   "metadata": {},
   "outputs": [
    {
     "data": {
      "text/plain": [
       "[1, 2, 5, 8, 9]"
      ]
     },
     "execution_count": 26,
     "metadata": {},
     "output_type": "execute_result"
    }
   ],
   "source": [
    "#보통은 뒤에 메소드를 작성해도 원본이 유지되나\n",
    "#유지되지 않고 원본이 바뀌는 경우도 있다. ex) .sort()\n",
    "numbers = [9, 5, 8, 1, 2]\n",
    "sorted_numbers = numbers.sort()\n",
    "numbers.sort()\n",
    "numbers"
   ]
  },
  {
   "cell_type": "code",
   "execution_count": 22,
   "metadata": {},
   "outputs": [
    {
     "data": {
      "text/plain": [
       "['elec', 'sds', 's1', 'bio', 'bio', 'bio', 'bio']"
      ]
     },
     "execution_count": 22,
     "metadata": {},
     "output_type": "execute_result"
    }
   ],
   "source": [
    "samsung + ['bio']"
   ]
  },
  {
   "cell_type": "code",
   "execution_count": 24,
   "metadata": {},
   "outputs": [
    {
     "data": {
      "text/plain": [
       "['elec', 'sds', 's1', 'bio', 'bio', 'bio', 'bio', 'bio']"
      ]
     },
     "execution_count": 24,
     "metadata": {},
     "output_type": "execute_result"
    }
   ],
   "source": [
    "samsung.append('bio') #뒤에 내용 붙임. 원본이 바뀜!!\n",
    "samsung"
   ]
  },
  {
   "cell_type": "code",
   "execution_count": 27,
   "metadata": {},
   "outputs": [],
   "source": [
    "# 구글에서 keywords로 검색된 탭이 여러개 뜸\n",
    "\n",
    "import webbrowser\n",
    "\n",
    "keywords = [\n",
    "    'bts', \n",
    "    'python', \n",
    "    'SSAFY'\n",
    "]\n",
    "\n",
    "for keyword in keywords:\n",
    "    url = 'https://www.google.com/search?q=' + keyword\n",
    "    webbrowser.open_new(url)"
   ]
  },
  {
   "cell_type": "code",
   "execution_count": 31,
   "metadata": {},
   "outputs": [],
   "source": [
    "#url = 'https://www.google.com/search?q=' + keywor\n",
    "# 다시 써보기\n",
    "\n"
   ]
  },
  {
   "cell_type": "code",
   "execution_count": 39,
   "metadata": {},
   "outputs": [
    {
     "name": "stdout",
     "output_type": "stream",
     "text": [
      "[23, 41, 31, 33, 45, 25]\n",
      "[2, 41, 39, 18, 9, 38]\n"
     ]
    }
   ],
   "source": [
    "# pick lotto number\n",
    "\n",
    "import random\n",
    "\n",
    "numbers = list(range(1, 46))\n",
    "\n",
    "my_numbers = random.sample(numbers, 6)\n",
    "\n",
    "print(my_numbers)\n",
    "\n",
    "print(random.sample(list(range(1, 46)), 6))"
   ]
  },
  {
   "cell_type": "code",
   "execution_count": null,
   "metadata": {},
   "outputs": [],
   "source": [
    "# 다시 써보기\n"
   ]
  },
  {
   "cell_type": "code",
   "execution_count": 40,
   "metadata": {
    "scrolled": true
   },
   "outputs": [
    {
     "name": "stdout",
     "output_type": "stream",
     "text": [
      "[2, 25, 28, 30, 33, 45]\n"
     ]
    },
    {
     "name": "stderr",
     "output_type": "stream",
     "text": [
      "c:\\python37\\lib\\site-packages\\urllib3\\connectionpool.py:847: InsecureRequestWarning: Unverified HTTPS request is being made. Adding certificate verification is strongly advised. See: https://urllib3.readthedocs.io/en/latest/advanced-usage.html#ssl-warnings\n",
      "  InsecureRequestWarning)\n"
     ]
    }
   ],
   "source": [
    "#get lotto data\n",
    "\n",
    "import requests , json\n",
    "#{   \n",
    "#    \"drwtNo1\":2\n",
    "#    \"drwtNo2\":25,\n",
    "#    \"drwtNo4\":30,\n",
    "#    \"drwtNo5\":33,\n",
    "#    \"drwtNo6\":45,\n",
    "#    \"bnusNo\":6,}\n",
    "\n",
    "url = 'https://www.nlotto.co.kr/common.do?method=getLottoNumber&drwNo=837'\n",
    "\n",
    "response = requests.get(url, verify=False)\n",
    "lotto_data = response.json()\n",
    "\n",
    "\n",
    "real_numbers = []\n",
    "\n",
    "# for key in lotto_data:  # in 뒤의 lotto_data가 ㅇㅇ인경우? key값이 나옴\n",
    "#     if 'drwtNo' in key:\n",
    "#         real_numbers.append(lotto_data[key])\n",
    "\n",
    "for key, value in lotto_data.items():\n",
    "    if 'drwtNo' in key:\n",
    "        real_numbers.append(value)\n",
    "\n",
    "real_numbers.sort()\n",
    "bonus_number = lotto_data['bnusNo']\n",
    "print(real_numbers)"
   ]
  },
  {
   "cell_type": "code",
   "execution_count": 33,
   "metadata": {},
   "outputs": [],
   "source": [
    "#다시 써보기\n",
    "#{   \n",
    "#    \"drwtNo1\":2\n",
    "#    \"drwtNo2\":25,\n",
    "#    \"drwtNo4\":30,\n",
    "#    \"drwtNo5\":33,\n",
    "#    \"drwtNo6\":45,\n",
    "#    \"bnusNo\":6,}\n",
    "\n",
    "url = 'https://www.nlotto.co.kr/common.do?method=getLottoNumber&drwNo=837'\n",
    "\n",
    "\n"
   ]
  },
  {
   "cell_type": "code",
   "execution_count": 34,
   "metadata": {},
   "outputs": [
    {
     "name": "stdout",
     "output_type": "stream",
     "text": [
      "Clear\n",
      "36.58\n"
     ]
    }
   ],
   "source": [
    "# weather\n",
    "\n",
    "from darksky import forecast\n",
    "\n",
    "multicampus = forecast('a11e9488156cceaddf3805cad9ea8cb4', 37.501554, 127.03966)\n",
    "\n",
    "print(multicampus['currently']['summary'])\n",
    "print(multicampus['currently']['temperature'])"
   ]
  },
  {
   "cell_type": "code",
   "execution_count": 35,
   "metadata": {},
   "outputs": [],
   "source": [
    "#로또 과제\n",
    "\n",
    "# 문제\n",
    "\n",
    "# numbers = list(range(1, 46))\n",
    "\n",
    "# my_numbers = random.sample(numbers, 6)\n",
    "\n",
    "# print(my_numbers)\n",
    "\n",
    "# my_numbers, real_numbers, bonus_number\n",
    "# 1등 : my_numbers == real_numbers\n",
    "# 2등 : eal_numbers & my_numbers 가 5개가 같고, 나머지 하나의 my_numbers == bonus_number\n",
    "# 3등 : real_numbers & my_numbers 가 5개가 같다\n",
    "# 4등 : real_numbers & my_numbers 가 4개가 같다\n",
    "# 5등 : real_numbers & my_numbers 가 3개가 같다\n",
    "# 꽝"
   ]
  },
  {
   "cell_type": "code",
   "execution_count": 36,
   "metadata": {},
   "outputs": [
    {
     "name": "stdout",
     "output_type": "stream",
     "text": [
      "내 번호:  [29, 28, 1, 31, 14, 39]\n",
      "꽝.....ㅠㅠ\n"
     ]
    },
    {
     "name": "stderr",
     "output_type": "stream",
     "text": [
      "c:\\python37\\lib\\site-packages\\urllib3\\connectionpool.py:847: InsecureRequestWarning: Unverified HTTPS request is being made. Adding certificate verification is strongly advised. See: https://urllib3.readthedocs.io/en/latest/advanced-usage.html#ssl-warnings\n",
      "  InsecureRequestWarning)\n"
     ]
    }
   ],
   "source": [
    "# 내 풀이\n",
    "\n",
    "import random\n",
    "import requests\n",
    "#{   \n",
    "#    \"drwtNo1\":2\n",
    "#    \"drwtNo2\":25,\n",
    "#    \"drwtNo4\":30,\n",
    "#    \"drwtNo5\":33,\n",
    "#    \"drwtNo6\":45,\n",
    "#    \"bnusNo\":6,}\n",
    "\n",
    "url = 'https://www.nlotto.co.kr/common.do?method=getLottoNumber&drwNo=837'\n",
    "\n",
    "response = requests.get(url, verify=False)\n",
    "lotto_data = response.json()\n",
    "\n",
    "real_numbers = []\n",
    "for key, value in lotto_data.items():\n",
    "    if 'drwtNo' in key:\n",
    "        real_numbers.append(value)\n",
    "\n",
    "real_numbers.sort()\n",
    "bonus_number = [lotto_data['bnusNo']]\n",
    "\n",
    "numbers = list(range(1, 46))\n",
    "my_numbers = random.sample(numbers, 6)\n",
    "print('내 번호: ', my_numbers)\n",
    "\n",
    "same_numbers = list(set(my_numbers).intersection(real_numbers)) \n",
    "#내번호와 로또번호의 교집합\n",
    "num_same_num = len(same_numbers) #교집합 요소수\n",
    "exc_same = list(set(my_numbers).difference(real_numbers))\n",
    "#내번호에서 교집합을 제외한 것=>차집합\n",
    "exc_bonus = list(set(exc_same).intersection(bonus_number))\n",
    "#차집합과 보너스 번호의 교집합\n",
    "\n",
    "if num_same_num == 6:\n",
    "    print(\"으아항아ㅏ으아앙 1등입니다!!!!!\")\n",
    "elif num_same_num == 5:\n",
    "    if exc_bonus == []:\n",
    "        print(\"오오오옼 3등입니다!!!\")\n",
    "    else:\n",
    "        print(\"우와아ㅏㅇ아아 2등입니다!!!!\")\n",
    "elif num_same_num == 4:\n",
    "    print(\"우오 4등입니다!!\")\n",
    "elif num_same_num == 3:\n",
    "    print(\"오 5등입니다!\")\n",
    "else: print(\"꽝.....ㅠㅠ\")"
   ]
  },
  {
   "cell_type": "code",
   "execution_count": 37,
   "metadata": {},
   "outputs": [
    {
     "name": "stdout",
     "output_type": "stream",
     "text": [
      "동일한 숫자 개수:  6\n",
      "1\n"
     ]
    }
   ],
   "source": [
    "# 풀이1\n",
    "\n",
    "my_numbers = [1, 2, 3, 4, 5, 6]\n",
    "real_numbers = [1, 2, 3, 4, 5, 6]\n",
    "bonus_number = [7]\n",
    "\n",
    "count = 0\n",
    "for my_number in my_numbers:\n",
    "    for real_number in real_numbers:\n",
    "        if my_number == real_number:\n",
    "            count += 1\n",
    "print('동일한 숫자 개수: ', count)\n",
    "\n",
    "if count == 6:\n",
    "    print(1)\n",
    "elif count == 5 and bonus in my_numbers:\n",
    "    print(2)\n",
    "elif count == 5:\n",
    "    print(3)\n",
    "elif count == 4:\n",
    "    print(4)\n",
    "elif count == 3:\n",
    "    print(5)\n",
    "else : print('꽝')"
   ]
  },
  {
   "cell_type": "code",
   "execution_count": 38,
   "metadata": {},
   "outputs": [
    {
     "name": "stdout",
     "output_type": "stream",
     "text": [
      "6\n",
      "1등\n"
     ]
    }
   ],
   "source": [
    "# 풀이2\n",
    "\n",
    "my_numbers = set([1, 2, 3, 4, 5, 6]) #set으로 변환\n",
    "real_numbers = set([1, 2, 3, 4, 5, 6])\n",
    "bonus_number = 7\n",
    "\n",
    "match_count = len(my_numbers & real_numbers)\n",
    "print(match_count)\n",
    "\n",
    "if match_count == 6:\n",
    "    print('1등')\n",
    "elif match_count == 5 and bonus in my_numbers:\n",
    "    print('2등')\n",
    "elif match_count == 5:\n",
    "    print('3등')\n",
    "elif match_count == 4:\n",
    "    print('4등')\n",
    "elif match_count == 3:\n",
    "    print('5등')\n",
    "else : print('꽝')"
   ]
  }
 ],
 "metadata": {
  "kernelspec": {
   "display_name": "Python 3",
   "language": "python",
   "name": "python3"
  },
  "language_info": {
   "codemirror_mode": {
    "name": "ipython",
    "version": 3
   },
   "file_extension": ".py",
   "mimetype": "text/x-python",
   "name": "python",
   "nbconvert_exporter": "python",
   "pygments_lexer": "ipython3",
   "version": "3.7.1"
  }
 },
 "nbformat": 4,
 "nbformat_minor": 2
}
